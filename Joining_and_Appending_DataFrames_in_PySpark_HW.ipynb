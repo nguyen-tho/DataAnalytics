{
 "cells": [
  {
   "cell_type": "markdown",
   "metadata": {},
   "source": [
    "# Joining and Appending DataFrames in PySpark HW\n",
    "\n",
    "Now it's time to test your knowledge and further engrain the concepts we touched on in the lectures. Let's go ahead and get started.\n",
    "\n",
    "\n",
    "\n",
    "\n",
    "**As always let's start our Spark instance.**"
   ]
  },
  {
   "cell_type": "code",
   "execution_count": 1,
   "metadata": {},
   "outputs": [
    {
     "name": "stdout",
     "output_type": "stream",
     "text": [
      "You are working with 1 core(s)\n"
     ]
    },
    {
     "data": {
      "text/html": [
       "\n",
       "            <div>\n",
       "                <p><b>SparkSession - in-memory</b></p>\n",
       "                \n",
       "        <div>\n",
       "            <p><b>SparkContext</b></p>\n",
       "\n",
       "            <p><a href=\"http://DESKTOP-RTUQ6MF:4040\">Spark UI</a></p>\n",
       "\n",
       "            <dl>\n",
       "              <dt>Version</dt>\n",
       "                <dd><code>v3.5.0</code></dd>\n",
       "              <dt>Master</dt>\n",
       "                <dd><code>local[*]</code></dd>\n",
       "              <dt>AppName</dt>\n",
       "                <dd><code>joins</code></dd>\n",
       "            </dl>\n",
       "        </div>\n",
       "        \n",
       "            </div>\n",
       "        "
      ],
      "text/plain": [
       "<pyspark.sql.session.SparkSession at 0x197cc0e4790>"
      ]
     },
     "execution_count": 1,
     "metadata": {},
     "output_type": "execute_result"
    }
   ],
   "source": [
    "import findspark\n",
    "findspark.init()\n",
    "\n",
    "import pyspark # only run after findspark.init()\n",
    "from pyspark.sql import SparkSession\n",
    "# May take awhile locally\n",
    "spark = SparkSession.builder.appName(\"joins\").getOrCreate()\n",
    "\n",
    "cores = spark._jsc.sc().getExecutorMemoryStatus().keySet().size()\n",
    "print(\"You are working with\", cores, \"core(s)\")\n",
    "spark"
   ]
  },
  {
   "cell_type": "markdown",
   "metadata": {},
   "source": [
    "## Read in the database\n",
    "\n",
    "Let cotinue working with our college courses dataframe to get some more insights and practice what we have learned!Let's read in the whole database using the loop function that we learned about in the lecture to automatically read in all the datasets from the uw-madision-courses folder (there are too many datasets to each one individually."
   ]
  },
  {
   "cell_type": "code",
   "execution_count": 2,
   "metadata": {},
   "outputs": [
    {
     "name": "stdout",
     "output_type": "stream",
     "text": [
      "Full list of dfs:\n",
      "['courses', 'course_offerings', 'grade_distributions', 'instructors', 'rooms', 'schedules', 'sections', 'subjects', 'subject_memberships', 'teachings']\n"
     ]
    }
   ],
   "source": [
    "import os\n",
    "\n",
    "path = \"dataset/madison_courses/uw-madison-courses/\"\n",
    "\n",
    "df_list = []\n",
    "for filename in os.listdir(path):\n",
    "    if filename.endswith(\".csv\"):\n",
    "        filename_list = filename.split(\".\") #separate path from .csv\n",
    "        df_name = filename_list[0]\n",
    "        df = spark.read.csv(path+filename,inferSchema=True,header=True)\n",
    "        df.name = df_name\n",
    "        df_list.append(df_name)\n",
    "        exec(df_name + ' = df')\n",
    "        \n",
    "# QA\n",
    "print(\"Full list of dfs:\")\n",
    "print(df_list)"
   ]
  },
  {
   "cell_type": "markdown",
   "metadata": {},
   "source": [
    "Now check the contents of a few of the dataframses that were read in above."
   ]
  },
  {
   "cell_type": "code",
   "execution_count": 3,
   "metadata": {},
   "outputs": [
    {
     "name": "stdout",
     "output_type": "stream",
     "text": [
      "DataFrame: courses\n",
      "+--------------------+--------------------+------+\n",
      "|                uuid|                name|number|\n",
      "+--------------------+--------------------+------+\n",
      "|a3e3e1c3-543d-3bb...|Cooperative Educa...|     1|\n",
      "|c070a84f-648f-351...|Cooperative Educa...|     1|\n",
      "|e6b4b7ae-0e0b-3aa...|Cooperative Educa...|     1|\n",
      "|8f63bde1-ff7f-3fe...|Workshop in Dance...|     1|\n",
      "|f3541888-584a-392...|Cooperative Educa...|     1|\n",
      "+--------------------+--------------------+------+\n",
      "only showing top 5 rows\n",
      "\n",
      "None\n",
      "DataFrame: course_offerings\n",
      "+--------------------+--------------------+---------+--------------------+\n",
      "|                uuid|         course_uuid|term_code|                name|\n",
      "+--------------------+--------------------+---------+--------------------+\n",
      "|344b3ebe-da7e-314...|a3e3e1c3-543d-3bb...|     1092|Cooperative Educa...|\n",
      "|f718e6cd-33f0-3c1...|a3e3e1c3-543d-3bb...|     1082|Cooperative Educa...|\n",
      "|ea3b717c-d66b-30d...|a3e3e1c3-543d-3bb...|     1172|Cooperative Educa...|\n",
      "|075da420-5f49-3dd...|a3e3e1c3-543d-3bb...|     1114|Cooperative Educa...|\n",
      "|2b4e216d-a728-371...|a3e3e1c3-543d-3bb...|     1104|Cooperative Educa...|\n",
      "+--------------------+--------------------+---------+--------------------+\n",
      "only showing top 5 rows\n",
      "\n",
      "None\n",
      "DataFrame: grade_distributions\n",
      "+--------------------+--------------+-------+--------+-------+--------+-------+-------+-------+-------+-------+--------+-------+-------+-------+--------+--------+-----------+\n",
      "|course_offering_uuid|section_number|a_count|ab_count|b_count|bc_count|c_count|d_count|f_count|s_count|u_count|cr_count|n_count|p_count|i_count|nw_count|nr_count|other_count|\n",
      "+--------------------+--------------+-------+--------+-------+--------+-------+-------+-------+-------+-------+--------+-------+-------+-------+--------+--------+-----------+\n",
      "|344b3ebe-da7e-314...|             1|    105|       0|      0|       0|      0|      0|      0|      0|      0|       0|      0|      0|      0|       0|       0|          0|\n",
      "|f718e6cd-33f0-3c1...|             1|    158|       0|      0|       0|      0|      0|      0|      0|      0|       0|      0|      0|      1|       0|       0|          0|\n",
      "|ea3b717c-d66b-30d...|             1|    139|      12|      2|       0|      3|      0|      0|      0|      0|       0|      0|      0|      0|       0|       0|          0|\n",
      "|075da420-5f49-3dd...|             1|     87|       0|      0|       0|      0|      0|      0|      0|      0|       0|      0|      0|      1|       0|       0|          0|\n",
      "|2b4e216d-a728-371...|             1|     70|       0|      0|       0|      0|      0|      0|      0|      0|       0|      0|      0|      1|       0|       0|          0|\n",
      "+--------------------+--------------+-------+--------+-------+--------+-------+-------+-------+-------+-------+--------+-------+-------+-------+--------+--------+-----------+\n",
      "only showing top 5 rows\n",
      "\n",
      "None\n",
      "DataFrame: instructors\n",
      "+-------+------------------+\n",
      "|     id|              name|\n",
      "+-------+------------------+\n",
      "| 761703|  JOHN ARCHAMBAULT|\n",
      "|3677061|    STEPHANIE KANN|\n",
      "| 788586|        KATHY PREM|\n",
      "|1600463|KRISTIN KLARKOWSKI|\n",
      "| 693634|    DAVID BOHNHOFF|\n",
      "+-------+------------------+\n",
      "only showing top 5 rows\n",
      "\n",
      "None\n",
      "DataFrame: rooms\n",
      "+--------------------+-------------+---------+\n",
      "|                uuid|facility_code|room_code|\n",
      "+--------------------+-------------+---------+\n",
      "|04368a56-c959-3e4...|   OFF CAMPUS|     null|\n",
      "|2cc50da3-ef0e-357...|         0032|     0249|\n",
      "|ebbf62b4-2ac3-356...|         0032|     B101|\n",
      "|ed828265-475b-31b...|         0032|     0549|\n",
      "|b277dc8e-bab1-3a1...|         0032|     0349|\n",
      "+--------------------+-------------+---------+\n",
      "only showing top 5 rows\n",
      "\n",
      "None\n",
      "DataFrame: schedules\n",
      "+--------------------+----------+--------+-----+-----+-----+-----+-----+-----+-----+\n",
      "|                uuid|start_time|end_time|  mon| tues|  wed|thurs|  fri|  sat|  sun|\n",
      "+--------------------+----------+--------+-----+-----+-----+-----+-----+-----+-----+\n",
      "|f2d66a4d-0c08-3b4...|        -1|      -1|false|false|false|false|false|false|false|\n",
      "|875542a2-f786-34d...|       530|     580| true|false| true|false|false|false|false|\n",
      "|f41f1e4d-cb4f-3de...|       660|     710|false| true|false| true|false|false|false|\n",
      "|46da55a4-17f7-31a...|       800|     850|false| true|false| true|false|false|false|\n",
      "|8c7cd81e-4f81-357...|       725|     775|false| true|false| true|false|false|false|\n",
      "+--------------------+----------+--------+-----+-----+-----+-----+-----+-----+-----+\n",
      "only showing top 5 rows\n",
      "\n",
      "None\n",
      "DataFrame: sections\n",
      "+--------------------+--------------------+------------+------+--------------------+--------------------+\n",
      "|                uuid|course_offering_uuid|section_type|number|           room_uuid|       schedule_uuid|\n",
      "+--------------------+--------------------+------------+------+--------------------+--------------------+\n",
      "|45adf63c-48c9-365...|344b3ebe-da7e-314...|         FLD|     1|                null|f2d66a4d-0c08-3b4...|\n",
      "|c6280e23-5e43-385...|f718e6cd-33f0-3c1...|         FLD|     1|                null|f2d66a4d-0c08-3b4...|\n",
      "|9395dc21-15d1-3fa...|ea3b717c-d66b-30d...|         FLD|     1|04368a56-c959-3e4...|f2d66a4d-0c08-3b4...|\n",
      "|b99e440b-39db-350...|ea3b717c-d66b-30d...|         FLD|     1|                null|f2d66a4d-0c08-3b4...|\n",
      "|ca1c841f-41d5-329...|ea3b717c-d66b-30d...|         FLD|     1|                null|f2d66a4d-0c08-3b4...|\n",
      "+--------------------+--------------------+------------+------+--------------------+--------------------+\n",
      "only showing top 5 rows\n",
      "\n",
      "None\n",
      "DataFrame: subjects\n",
      "+----+--------------------+------------+\n",
      "|code|                name|abbreviation|\n",
      "+----+--------------------+------------+\n",
      "| 908|        Soil Science|    SOIL SCI|\n",
      "| 350|             ENGLISH|     ENGLISH|\n",
      "| 351|English as a Seco...|         ESL|\n",
      "| 230|Human Development...|        HDFS|\n",
      "| 352|             English|        ENGL|\n",
      "+----+--------------------+------------+\n",
      "only showing top 5 rows\n",
      "\n",
      "None\n",
      "DataFrame: subject_memberships\n",
      "+------------+--------------------+\n",
      "|subject_code|course_offering_uuid|\n",
      "+------------+--------------------+\n",
      "|         220|344b3ebe-da7e-314...|\n",
      "|         320|344b3ebe-da7e-314...|\n",
      "|         346|344b3ebe-da7e-314...|\n",
      "|         612|344b3ebe-da7e-314...|\n",
      "|         636|344b3ebe-da7e-314...|\n",
      "+------------+--------------------+\n",
      "only showing top 5 rows\n",
      "\n",
      "None\n",
      "DataFrame: teachings\n",
      "+-------------+--------------------+\n",
      "|instructor_id|        section_uuid|\n",
      "+-------------+--------------------+\n",
      "|       761703|45adf63c-48c9-365...|\n",
      "|       761703|c6280e23-5e43-385...|\n",
      "|       761703|9395dc21-15d1-3fa...|\n",
      "|      3677061|b99e440b-39db-350...|\n",
      "|       761703|ca1c841f-41d5-329...|\n",
      "+-------------+--------------------+\n",
      "only showing top 5 rows\n",
      "\n",
      "None\n"
     ]
    }
   ],
   "source": [
    "for df_name in df_list:\n",
    "  print(f\"DataFrame: {df_name}\")\n",
    "  print(globals()[df_name].show(5))  # Assuming DataFrames are stored in globals()\n"
   ]
  },
  {
   "cell_type": "markdown",
   "metadata": {},
   "source": [
    "## Recap: About this database\n",
    "\n",
    "You will notice that there are several more tables in the uw-madision-courses folder than there are read in above. This so that you will have a chance to practice your own custom joins and learn about the relationships between a real database work. Sometimes we don't know how they are related and we need to figure it out! I'll save that for the HW :) \n",
    "\n",
    "Here is a look at some of the important variables we can use to join our tables:\n",
    "\n",
    " - course_offerings: uuid, course_uuid, term_code, name\n",
    " - instructors: id, name\n",
    " - schedules: uuid\n",
    " - sections: uuid, course_offering_uuid,room_uuid, schedule_uuid\n",
    " - teachings: instructor_id, section_uuid\n",
    " - courses: uuid\n",
    " - grade_distributions: course_offering_uuid,section_number\n",
    " - rooms: uuid, facility_code, room_code\n",
    " - subjects: code\n",
    " - subject_memberships: subject_code, course_offering_uuid\n",
    " \n",
    " **Source:** https://www.kaggle.com/Madgrades/uw-madison-courses\n",
    " \n",
    "So alright, let's use this information to discover some insights from this data!"
   ]
  },
  {
   "cell_type": "markdown",
   "metadata": {},
   "source": [
    "## 1a. Can you assign the room numbers to each section of each course?\n",
    "\n",
    "Show only the rooms uuid, facility code, room number, term code and the name of the course from the course_offerings table."
   ]
  },
  {
   "cell_type": "code",
   "execution_count": 13,
   "metadata": {},
   "outputs": [
    {
     "name": "stdout",
     "output_type": "stream",
     "text": [
      "+--------------------+-------------+---------+---------+--------------------+\n",
      "|           room_uuid|facility_code|room_code|term_code|                name|\n",
      "+--------------------+-------------+---------+---------+--------------------+\n",
      "|                null|         NULL|     NULL|     1092|Cooperative Educa...|\n",
      "|                null|         NULL|     NULL|     1082|Cooperative Educa...|\n",
      "|04368a56-c959-3e4...|   OFF CAMPUS|     null|     1172|Cooperative Educa...|\n",
      "|                null|         NULL|     NULL|     1172|Cooperative Educa...|\n",
      "|                null|         NULL|     NULL|     1172|Cooperative Educa...|\n",
      "|04368a56-c959-3e4...|   OFF CAMPUS|     null|     1172|Cooperative Educa...|\n",
      "|04368a56-c959-3e4...|   OFF CAMPUS|     null|     1114|Cooperative Educa...|\n",
      "|                null|         NULL|     NULL|     1114|Cooperative Educa...|\n",
      "|                null|         NULL|     NULL|     1104|Cooperative Educa...|\n",
      "|04368a56-c959-3e4...|   OFF CAMPUS|     null|     1104|Cooperative Educa...|\n",
      "|                null|         NULL|     NULL|     1112|Cooperative Educa...|\n",
      "|04368a56-c959-3e4...|   OFF CAMPUS|     null|     1134|Cooperative Educa...|\n",
      "|04368a56-c959-3e4...|   OFF CAMPUS|     null|     1134|Cooperative Educa...|\n",
      "|                null|         NULL|     NULL|     1134|Cooperative Educa...|\n",
      "|                null|         NULL|     NULL|     1084|Cooperative Educa...|\n",
      "|04368a56-c959-3e4...|   OFF CAMPUS|     null|     1084|Cooperative Educa...|\n",
      "|                null|         NULL|     NULL|     1154|Cooperative Educa...|\n",
      "|04368a56-c959-3e4...|   OFF CAMPUS|     null|     1154|Cooperative Educa...|\n",
      "|04368a56-c959-3e4...|   OFF CAMPUS|     null|     1154|Cooperative Educa...|\n",
      "|                null|         NULL|     NULL|     1154|Cooperative Educa...|\n",
      "+--------------------+-------------+---------+---------+--------------------+\n",
      "only showing top 20 rows\n",
      "\n"
     ]
    }
   ],
   "source": [
    "# Assuming DataFrames are stored in globals()\n",
    "from pyspark.sql.functions import col\n",
    "rooms_df = globals()['rooms']\n",
    "sections_df = globals()['sections']\n",
    "course_offerings_df = globals()['course_offerings']\n",
    "\n",
    "joined_sections_rooms = sections_df.join(rooms_df, sections_df.room_uuid == rooms_df.uuid, how=\"left\")\n",
    "\n",
    "# Join the course_offerings and sections tables on course_offering_uuid\n",
    "joined_offerings_sections = course_offerings_df.join(joined_sections_rooms, course_offerings_df.uuid == sections_df.course_offering_uuid, how=\"inner\")\n",
    "\n",
    "# Select the desired columns\n",
    "\n",
    "selected_df = joined_offerings_sections.select(\n",
    "    col('room_uuid'), col('facility_code'), col('room_code'),\n",
    "    col('term_code'), col('name')\n",
    ")\n",
    "\n",
    "\n",
    "\n",
    "# Show the results\n",
    "selected_df.show()\n"
   ]
  },
  {
   "cell_type": "code",
   "execution_count": null,
   "metadata": {},
   "outputs": [],
   "source": []
  },
  {
   "cell_type": "markdown",
   "metadata": {},
   "source": [
    "## 1b. Now show same output as above but for only facility number 0469 (facility_code)"
   ]
  },
  {
   "cell_type": "code",
   "execution_count": 15,
   "metadata": {},
   "outputs": [
    {
     "name": "stdout",
     "output_type": "stream",
     "text": [
      "+--------------------+-------------+---------+---------+--------------------+\n",
      "|           room_uuid|facility_code|room_code|term_code|                name|\n",
      "+--------------------+-------------+---------+---------+--------------------+\n",
      "|9759cb5f-a7d3-3d0...|         0469|     2441|     1152|  Fundamentals-Flute|\n",
      "|9759cb5f-a7d3-3d0...|         0469|     2441|     1092|  Fundamentals-Flute|\n",
      "|6af80b0b-b3e3-370...|         0469|     4411|     1172|  Fundamentals-Flute|\n",
      "|9759cb5f-a7d3-3d0...|         0469|     2441|     1162|  Fundamentals-Flute|\n",
      "|9759cb5f-a7d3-3d0...|         0469|     2441|     1132|  Fundamentals-Flute|\n",
      "|50322d30-dd8f-3c6...|         0469|     2511|     1072|  Fundamentals-Flute|\n",
      "|9759cb5f-a7d3-3d0...|         0469|     2441|     1142|  Fundamentals-Flute|\n",
      "|9759cb5f-a7d3-3d0...|         0469|     2441|     1112|  Fundamentals-Flute|\n",
      "|9759cb5f-a7d3-3d0...|         0469|     2441|     1102|  Fundamentals-Flute|\n",
      "|50322d30-dd8f-3c6...|         0469|     2511|     1082|  Fundamentals-Flute|\n",
      "|9759cb5f-a7d3-3d0...|         0469|     2441|     1122|  Fundamentals-Flute|\n",
      "|9759cb5f-a7d3-3d0...|         0469|     2441|     1182|  Fundamentals-Flute|\n",
      "|9759cb5f-a7d3-3d0...|         0469|     2441|     1172|Fundamentals: Sin...|\n",
      "|9759cb5f-a7d3-3d0...|         0469|     2441|     1172|Fundamentals: Sin...|\n",
      "|9759cb5f-a7d3-3d0...|         0469|     2441|     1152|Fundamentals: Sin...|\n",
      "|9759cb5f-a7d3-3d0...|         0469|     2441|     1152|Fundamentals: Sin...|\n",
      "|9759cb5f-a7d3-3d0...|         0469|     2441|     1072|Fundamentals: Sin...|\n",
      "|9759cb5f-a7d3-3d0...|         0469|     2441|     1072|Fundamentals: Sin...|\n",
      "|9759cb5f-a7d3-3d0...|         0469|     2441|     1122|Fundamentals: Sin...|\n",
      "|9759cb5f-a7d3-3d0...|         0469|     2441|     1102|Fundamentals: Sin...|\n",
      "+--------------------+-------------+---------+---------+--------------------+\n",
      "only showing top 20 rows\n",
      "\n"
     ]
    }
   ],
   "source": [
    "selected_df = joined_offerings_sections.select(\n",
    "    col('room_uuid'), col('facility_code'), col('room_code'),\n",
    "    col('term_code'), col('name')\n",
    ").where(col('facility_code') == '0469')\n",
    "\n",
    "selected_df.show()"
   ]
  },
  {
   "cell_type": "markdown",
   "metadata": {},
   "source": [
    "## 2. Count how many sections are offered for each subject for each facility\n",
    "\n",
    "*Note: this will involve a groupby*"
   ]
  },
  {
   "cell_type": "code",
   "execution_count": null,
   "metadata": {},
   "outputs": [],
   "source": []
  },
  {
   "cell_type": "code",
   "execution_count": null,
   "metadata": {},
   "outputs": [],
   "source": []
  },
  {
   "cell_type": "code",
   "execution_count": null,
   "metadata": {},
   "outputs": [],
   "source": []
  },
  {
   "cell_type": "code",
   "execution_count": null,
   "metadata": {},
   "outputs": [],
   "source": []
  },
  {
   "cell_type": "markdown",
   "metadata": {},
   "source": [
    "## 3. What are the hardest classes?\n",
    "\n",
    "Let's see if we can figure out which classes are the hardest by seeing how many students failed. Note that you will first need to aggregate the grades table by the course uuid to include all sections. Show the name of the course as well that you will need to get from the course_offering table."
   ]
  },
  {
   "cell_type": "code",
   "execution_count": null,
   "metadata": {},
   "outputs": [],
   "source": []
  },
  {
   "cell_type": "code",
   "execution_count": null,
   "metadata": {},
   "outputs": [],
   "source": []
  },
  {
   "cell_type": "markdown",
   "metadata": {},
   "source": [
    "## Challenge Question: Automating data entry errors\n",
    "\n",
    "We see in the dataframe below that there are several typos of various animal names. If this was a large database of several millions of records, correcting these errors would be way too labor intensive. How can we automate correcting these errors?\n",
    "\n",
    "*Hint: Leven...*"
   ]
  },
  {
   "cell_type": "code",
   "execution_count": null,
   "metadata": {},
   "outputs": [
    {
     "name": "stdout",
     "output_type": "stream",
     "text": [
      "+------------+---+\n",
      "|      Animal|age|\n",
      "+------------+---+\n",
      "|      Monkey| 10|\n",
      "|      Monkay| 36|\n",
      "|        Mnky|123|\n",
      "|    Elephant| 48|\n",
      "|     Elefant| 16|\n",
      "|    Ellafant|  1|\n",
      "|Hippopotamus| 48|\n",
      "| Hipopotamus| 16|\n",
      "|       Hippo|  1|\n",
      "+------------+---+\n",
      "\n"
     ]
    }
   ],
   "source": [
    "values = [('Monkey',10),('Monkay',36),('Mnky',123), \\\n",
    "          ('Elephant',48),('Elefant',16),('Ellafant',1), \\\n",
    "          ('Hippopotamus',48),('Hipopotamus',16),('Hippo',1)]\n",
    "zoo = spark.createDataFrame(values,['Animal','age'])\n",
    "zoo.show()"
   ]
  },
  {
   "cell_type": "code",
   "execution_count": null,
   "metadata": {},
   "outputs": [],
   "source": []
  },
  {
   "cell_type": "code",
   "execution_count": null,
   "metadata": {},
   "outputs": [],
   "source": []
  },
  {
   "cell_type": "code",
   "execution_count": null,
   "metadata": {},
   "outputs": [],
   "source": []
  },
  {
   "cell_type": "markdown",
   "metadata": {},
   "source": [
    "### Great job! "
   ]
  }
 ],
 "metadata": {
  "kernelspec": {
   "display_name": "Python 3 (ipykernel)",
   "language": "python",
   "name": "python3"
  },
  "language_info": {
   "codemirror_mode": {
    "name": "ipython",
    "version": 3
   },
   "file_extension": ".py",
   "mimetype": "text/x-python",
   "name": "python",
   "nbconvert_exporter": "python",
   "pygments_lexer": "ipython3",
   "version": "3.11.7"
  }
 },
 "nbformat": 4,
 "nbformat_minor": 2
}
