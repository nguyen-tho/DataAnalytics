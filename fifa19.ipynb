{
 "cells": [
  {
   "cell_type": "code",
   "execution_count": 1,
   "metadata": {},
   "outputs": [],
   "source": [
    "#create spark session\n",
    "import findspark\n",
    "findspark.init()\n",
    "\n",
    "from pyspark.sql import SparkSession\n",
    "\n",
    "def create_session(appName):\n",
    "    \"\"\"Create and return a SparkSession, creating one if it does not exist\"\"\"\n",
    "    try:\n",
    "        spark = SparkSession.builder \\\n",
    "            .appName(appName) \\\n",
    "            .getOrCreate()\n",
    "        return spark\n",
    "    except Exception as e:\n",
    "        print(\"Error getting or creating Spark Session\", str(e))\n",
    "        \n",
    "spark = create_session('fifa19')"
   ]
  },
  {
   "cell_type": "code",
   "execution_count": 2,
   "metadata": {},
   "outputs": [],
   "source": [
    "dataset_path = 'dataset/fifa19.csv'"
   ]
  },
  {
   "cell_type": "code",
   "execution_count": 3,
   "metadata": {},
   "outputs": [],
   "source": [
    "#read dataset\n",
    "fifa_df = spark.read.csv(dataset_path, header=True)"
   ]
  },
  {
   "cell_type": "code",
   "execution_count": 4,
   "metadata": {},
   "outputs": [
    {
     "name": "stdout",
     "output_type": "stream",
     "text": [
      "+------+-----------------+---+-----------+\n",
      "|ID    |Name             |Age|Nationality|\n",
      "+------+-----------------+---+-----------+\n",
      "|158023|L. Messi         |31 |Argentina  |\n",
      "|20801 |Cristiano Ronaldo|33 |Portugal   |\n",
      "|190871|Neymar Jr        |26 |Brazil     |\n",
      "|193080|De Gea           |27 |Spain      |\n",
      "|192985|K. De Bruyne     |27 |Belgium    |\n",
      "+------+-----------------+---+-----------+\n",
      "\n"
     ]
    }
   ],
   "source": [
    "#print 5 sample\n",
    "df = fifa_df.select(\"ID\", \"Name\", \"Age\", \"Nationality\")\n",
    "df.limit(5).show(truncate=False)"
   ]
  },
  {
   "cell_type": "code",
   "execution_count": 5,
   "metadata": {},
   "outputs": [
    {
     "name": "stdout",
     "output_type": "stream",
     "text": [
      "root\n",
      " |-- ID: string (nullable = true)\n",
      " |-- Name: string (nullable = true)\n",
      " |-- Age: string (nullable = true)\n",
      " |-- Nationality: string (nullable = true)\n",
      "\n"
     ]
    }
   ],
   "source": [
    "#print schema\n",
    "df.printSchema()"
   ]
  },
  {
   "cell_type": "code",
   "execution_count": 6,
   "metadata": {},
   "outputs": [
    {
     "name": "stdout",
     "output_type": "stream",
     "text": [
      "root\n",
      " |-- ID: integer (nullable = true)\n",
      " |-- Name: string (nullable = true)\n",
      " |-- Age: integer (nullable = true)\n",
      " |-- Nationality: string (nullable = true)\n",
      "\n"
     ]
    }
   ],
   "source": [
    "#modify data struct\n",
    "from pyspark.sql.functions import col\n",
    "from pyspark.sql.types import IntegerType\n",
    "\n",
    "df = df.withColumn(\"ID\", col(\"ID\").cast(IntegerType()))\\\n",
    "    .withColumn( \"Age\", col(\"Age\").cast(IntegerType()))\n",
    "    \n",
    "df.printSchema()"
   ]
  },
  {
   "cell_type": "code",
   "execution_count": 7,
   "metadata": {},
   "outputs": [
    {
     "name": "stdout",
     "output_type": "stream",
     "text": [
      "+------+---------------+---+-----------------+\n",
      "|    ID|           Name|Age|      Nationality|\n",
      "+------+---------------+---+-----------------+\n",
      "|140029|       O. Pérez| 45|           Mexico|\n",
      "| 51963|      T. Warner| 44|Trinidad & Tobago|\n",
      "| 53748|  K. Pilkington| 44|          England|\n",
      "|140183|    S. Narazaki| 42|            Japan|\n",
      "|156092|      J. Villar| 41|         Paraguay|\n",
      "|208927|   H. Sulaimani| 41|     Saudi Arabia|\n",
      "|  3665|       B. Nivet| 41|           France|\n",
      "| 18745|       M. Tyler| 41|          England|\n",
      "|142998|       C. Muñoz| 41|        Argentina|\n",
      "|176540|    B. Castillo| 40|         Colombia|\n",
      "|100899|    S. Phillips| 40|          England|\n",
      "| 49511|       F. Kippe| 40|           Norway|\n",
      "|  1179|      G. Buffon| 40|            Italy|\n",
      "|214372|        W. Díaz| 40|         Colombia|\n",
      "| 14907|    A. Bizzarri| 40|        Argentina|\n",
      "|156480|    Y. Nakazawa| 40|            Japan|\n",
      "|153260|         Hilton| 40|           Brazil|\n",
      "| 28157|P. van der Vlag| 40|      Netherlands|\n",
      "|232543|     S. Bertoli| 40|        Argentina|\n",
      "|219344|   A. Al Basisi| 40|     Saudi Arabia|\n",
      "+------+---------------+---+-----------------+\n",
      "only showing top 20 rows\n",
      "\n",
      "##################################################################################################################################\n",
      "+------+---------------+---+-------------+\n",
      "|    ID|           Name|Age|  Nationality|\n",
      "+------+---------------+---+-------------+\n",
      "|245485|P. Samiec-Talar| 16|       Poland|\n",
      "|241266|    W. Geubbels| 16|       France|\n",
      "|243621|       N. Ayéva| 16|       Sweden|\n",
      "|244403|       A. Taoui| 16|       France|\n",
      "|242240|    L. D'Arrigo| 16|    Australia|\n",
      "|245616| Pelayo Morilla| 16|        Spain|\n",
      "|243646|      B. Nygren| 16|       Sweden|\n",
      "|246465|       Guerrero| 16|        Spain|\n",
      "|245470|       K. Broda| 16|       Poland|\n",
      "|246594|    H. Massengo| 16|       France|\n",
      "|245341|     C. Bassett| 16|United States|\n",
      "|246419| Y. Verschaeren| 16|      Belgium|\n",
      "|244752|      J. Olstad| 16|       Norway|\n",
      "|245015|      Y. Roemer| 16|  Netherlands|\n",
      "|242074|       R. Gómez| 16|    Argentina|\n",
      "|243169|    Y. Begraoui| 16|       France|\n",
      "|245537|       E. Ceide| 16|       Norway|\n",
      "|241650|       J. Lahne| 16|       Sweden|\n",
      "|246009|       M. Tilio| 16|    Australia|\n",
      "|241552|    J. Italiano| 16|    Australia|\n",
      "+------+---------------+---+-------------+\n",
      "only showing top 20 rows\n",
      "\n"
     ]
    }
   ],
   "source": [
    "from pyspark.sql.functions import desc, asc\n",
    "df.orderBy(desc(\"Age\")).show()\n",
    "print('##################################################################################################################################')\n",
    "df.orderBy(asc(\"Age\")).show()\n"
   ]
  },
  {
   "cell_type": "code",
   "execution_count": 8,
   "metadata": {},
   "outputs": [
    {
     "name": "stdout",
     "output_type": "stream",
     "text": [
      "+--------------------+-----+\n",
      "|         Nationality|count|\n",
      "+--------------------+-----+\n",
      "|                Chad|    2|\n",
      "|              Russia|   79|\n",
      "|            Paraguay|   85|\n",
      "|             Senegal|  130|\n",
      "|              Sweden|  397|\n",
      "|         Philippines|    2|\n",
      "|             Eritrea|    2|\n",
      "|                Fiji|    1|\n",
      "|              Turkey|  303|\n",
      "|                Iraq|    7|\n",
      "|             Germany| 1198|\n",
      "|      St Kitts Nevis|    3|\n",
      "|             Comoros|    6|\n",
      "|         Ivory Coast|  100|\n",
      "|              France|  914|\n",
      "|              Greece|  102|\n",
      "|              Kosovo|   33|\n",
      "|Central African Rep.|    3|\n",
      "|            DR Congo|   52|\n",
      "|          Montserrat|    4|\n",
      "+--------------------+-----+\n",
      "only showing top 20 rows\n",
      "\n"
     ]
    }
   ],
   "source": [
    "#groupBy command need to use together with a statistic  function.\n",
    "#Here, I will show you how to calculate the mean and standard deviation of each group using 'groupBy' and 'apply'.\n",
    "#Here, we will use the groupBy\n",
    "\n",
    "group_df = df.groupBy(\"Nationality\").count()\n",
    "group_df.show()"
   ]
  },
  {
   "cell_type": "code",
   "execution_count": 9,
   "metadata": {},
   "outputs": [
    {
     "name": "stdout",
     "output_type": "stream",
     "text": [
      "+---------------+------------+\n",
      "|Name           |Club        |\n",
      "+---------------+------------+\n",
      "|L. Messi       |FC Barcelona|\n",
      "|L. Suárez      |FC Barcelona|\n",
      "|M. ter Stegen  |FC Barcelona|\n",
      "|Sergio Busquets|FC Barcelona|\n",
      "|Coutinho       |FC Barcelona|\n",
      "|S. Umtiti      |FC Barcelona|\n",
      "|Jordi Alba     |FC Barcelona|\n",
      "|I. Rakitić     |FC Barcelona|\n",
      "|Piqué          |FC Barcelona|\n",
      "|A. Vidal       |FC Barcelona|\n",
      "|O. Dembélé     |FC Barcelona|\n",
      "|Sergi Roberto  |FC Barcelona|\n",
      "|Arthur         |FC Barcelona|\n",
      "|Malcom         |FC Barcelona|\n",
      "|C. Lenglet     |FC Barcelona|\n",
      "|Rafinha        |FC Barcelona|\n",
      "|J. Cillessen   |FC Barcelona|\n",
      "|Nélson Semedo  |FC Barcelona|\n",
      "|Denis Suárez   |FC Barcelona|\n",
      "|Munir          |FC Barcelona|\n",
      "+---------------+------------+\n",
      "only showing top 20 rows\n",
      "\n"
     ]
    }
   ],
   "source": [
    "#select data by condition using where  clause\n",
    "fifa_df.select(\"Name\", \"Club\").where(fifa_df.Club.like(\"%Barcelona%\")).show(truncate=False)"
   ]
  },
  {
   "cell_type": "code",
   "execution_count": 10,
   "metadata": {},
   "outputs": [
    {
     "name": "stdout",
     "output_type": "stream",
     "text": [
      "+--------------------+--------------+\n",
      "|               Photo|File_extension|\n",
      "+--------------------+--------------+\n",
      "|https://cdn.sofif...|           png|\n",
      "|https://cdn.sofif...|           png|\n",
      "|https://cdn.sofif...|           png|\n",
      "|https://cdn.sofif...|           png|\n",
      "|https://cdn.sofif...|           png|\n",
      "|https://cdn.sofif...|           png|\n",
      "|https://cdn.sofif...|           png|\n",
      "|https://cdn.sofif...|           png|\n",
      "|https://cdn.sofif...|           png|\n",
      "|https://cdn.sofif...|           png|\n",
      "|https://cdn.sofif...|           png|\n",
      "|https://cdn.sofif...|           png|\n",
      "|https://cdn.sofif...|           png|\n",
      "|https://cdn.sofif...|           png|\n",
      "|https://cdn.sofif...|           png|\n",
      "|https://cdn.sofif...|           png|\n",
      "|https://cdn.sofif...|           png|\n",
      "|https://cdn.sofif...|           png|\n",
      "|https://cdn.sofif...|           png|\n",
      "|https://cdn.sofif...|           png|\n",
      "+--------------------+--------------+\n",
      "only showing top 20 rows\n",
      "\n"
     ]
    }
   ],
   "source": [
    "#substr to extract a substring based on string index\n",
    "#str    abcdef.png\n",
    "#index  0123456789\n",
    "#rev_id -10-9-8-7-6-5-4-3-2-1\n",
    "#start at id =-3 mean 'p'\n",
    "#len 3 mean 'png'\n",
    "photo_ext = fifa_df.select(\"Photo\", fifa_df.Photo.substr(-3,3).alias(\"File_extension\"))\n",
    "photo_ext.show()"
   ]
  },
  {
   "cell_type": "code",
   "execution_count": 11,
   "metadata": {},
   "outputs": [
    {
     "name": "stdout",
     "output_type": "stream",
     "text": [
      "+----------------------------------------------+----------+\n",
      "|Photo                                         |filename  |\n",
      "+----------------------------------------------+----------+\n",
      "|https://cdn.sofifa.org/players/4/19/158023.png|158023.png|\n",
      "|https://cdn.sofifa.org/players/4/19/20801.png |20801.png |\n",
      "|https://cdn.sofifa.org/players/4/19/190871.png|190871.png|\n",
      "|https://cdn.sofifa.org/players/4/19/193080.png|193080.png|\n",
      "|https://cdn.sofifa.org/players/4/19/192985.png|192985.png|\n",
      "|https://cdn.sofifa.org/players/4/19/183277.png|183277.png|\n",
      "|https://cdn.sofifa.org/players/4/19/177003.png|177003.png|\n",
      "|https://cdn.sofifa.org/players/4/19/176580.png|176580.png|\n",
      "|https://cdn.sofifa.org/players/4/19/155862.png|155862.png|\n",
      "|https://cdn.sofifa.org/players/4/19/200389.png|200389.png|\n",
      "|https://cdn.sofifa.org/players/4/19/188545.png|188545.png|\n",
      "|https://cdn.sofifa.org/players/4/19/182521.png|182521.png|\n",
      "|https://cdn.sofifa.org/players/4/19/182493.png|182493.png|\n",
      "|https://cdn.sofifa.org/players/4/19/168542.png|168542.png|\n",
      "|https://cdn.sofifa.org/players/4/19/215914.png|215914.png|\n",
      "|https://cdn.sofifa.org/players/4/19/211110.png|211110.png|\n",
      "|https://cdn.sofifa.org/players/4/19/202126.png|202126.png|\n",
      "|https://cdn.sofifa.org/players/4/19/194765.png|194765.png|\n",
      "|https://cdn.sofifa.org/players/4/19/192448.png|192448.png|\n",
      "|https://cdn.sofifa.org/players/4/19/192119.png|192119.png|\n",
      "+----------------------------------------------+----------+\n",
      "only showing top 20 rows\n",
      "\n"
     ]
    }
   ],
   "source": [
    "from pyspark.sql.functions import regexp_extract\n",
    "\n",
    "# Define a function to extract the filename\n",
    "def get_filename(url_col):\n",
    "  \"\"\"\n",
    "  Extracts the filename from a URL string.\n",
    "\n",
    "  Args:\n",
    "    url_col: The column containing the URL strings.\n",
    "\n",
    "  Returns:\n",
    "    A new column containing the extracted filenames.\n",
    "  \"\"\"\n",
    "  # Extract the part after the last forward slash (/)\n",
    "  filename_pattern = r\".*/([^/]+)$\"\n",
    "  return regexp_extract(url_col, filename_pattern, 1)\n",
    "\n",
    "# Apply the function to extract filenames\n",
    "df = fifa_df.withColumn(\"filename\", get_filename(col(\"Photo\")))\n",
    "\n",
    "# Show the DataFrame with the new column\n",
    "df.select(\"Photo\", \"filename\").show(truncate=False)\n"
   ]
  },
  {
   "cell_type": "code",
   "execution_count": 13,
   "metadata": {},
   "outputs": [
    {
     "name": "stdout",
     "output_type": "stream",
     "text": [
      "+----------------------------------------------+----------+--------------------+\n",
      "|Photo                                         |filename  |filename_without_ext|\n",
      "+----------------------------------------------+----------+--------------------+\n",
      "|https://cdn.sofifa.org/players/4/19/158023.png|158023.png|158023              |\n",
      "|https://cdn.sofifa.org/players/4/19/20801.png |20801.png |20801               |\n",
      "|https://cdn.sofifa.org/players/4/19/190871.png|190871.png|190871              |\n",
      "|https://cdn.sofifa.org/players/4/19/193080.png|193080.png|193080              |\n",
      "|https://cdn.sofifa.org/players/4/19/192985.png|192985.png|192985              |\n",
      "|https://cdn.sofifa.org/players/4/19/183277.png|183277.png|183277              |\n",
      "|https://cdn.sofifa.org/players/4/19/177003.png|177003.png|177003              |\n",
      "|https://cdn.sofifa.org/players/4/19/176580.png|176580.png|176580              |\n",
      "|https://cdn.sofifa.org/players/4/19/155862.png|155862.png|155862              |\n",
      "|https://cdn.sofifa.org/players/4/19/200389.png|200389.png|200389              |\n",
      "|https://cdn.sofifa.org/players/4/19/188545.png|188545.png|188545              |\n",
      "|https://cdn.sofifa.org/players/4/19/182521.png|182521.png|182521              |\n",
      "|https://cdn.sofifa.org/players/4/19/182493.png|182493.png|182493              |\n",
      "|https://cdn.sofifa.org/players/4/19/168542.png|168542.png|168542              |\n",
      "|https://cdn.sofifa.org/players/4/19/215914.png|215914.png|215914              |\n",
      "|https://cdn.sofifa.org/players/4/19/211110.png|211110.png|211110              |\n",
      "|https://cdn.sofifa.org/players/4/19/202126.png|202126.png|202126              |\n",
      "|https://cdn.sofifa.org/players/4/19/194765.png|194765.png|194765              |\n",
      "|https://cdn.sofifa.org/players/4/19/192448.png|192448.png|192448              |\n",
      "|https://cdn.sofifa.org/players/4/19/192119.png|192119.png|192119              |\n",
      "+----------------------------------------------+----------+--------------------+\n",
      "only showing top 20 rows\n",
      "\n"
     ]
    }
   ],
   "source": [
    "#replace file extension\n",
    "from pyspark.sql.functions import col, regexp_replace\n",
    "df = df.withColumn(\n",
    "    \"filename_without_ext\",\n",
    "    regexp_replace(col(\"filename\"), r\"\\.[^.]+$\",\"\")\n",
    ")\n",
    "\n",
    "# Show the DataFrame with both original and modified filenames\n",
    "df.select(\"Photo\", \"filename\", \"filename_without_ext\").show(truncate=False)"
   ]
  },
  {
   "cell_type": "code",
   "execution_count": 20,
   "metadata": {},
   "outputs": [
    {
     "name": "stdout",
     "output_type": "stream",
     "text": [
      "+-----------------+--------+\n",
      "|             Name|    Club|\n",
      "+-----------------+--------+\n",
      "|Cristiano Ronaldo|Juventus|\n",
      "|        P. Dybala|Juventus|\n",
      "|     G. Chiellini|Juventus|\n",
      "|      Alex Sandro|Juventus|\n",
      "|    Douglas Costa|Juventus|\n",
      "|       L. Bonucci|Juventus|\n",
      "|        M. Pjanić|Juventus|\n",
      "|       M. Benatia|Juventus|\n",
      "|      W. Szczęsny|Juventus|\n",
      "|       S. Khedira|Juventus|\n",
      "|       B. Matuidi|Juventus|\n",
      "|         M. Perin|Juventus|\n",
      "|      J. Cuadrado|Juventus|\n",
      "|     M. Mandžukić|Juventus|\n",
      "|      A. Barzagli|Juventus|\n",
      "|  F. Bernardeschi|Juventus|\n",
      "|        D. Rugani|Juventus|\n",
      "|     João Cancelo|Juventus|\n",
      "|           E. Can|Juventus|\n",
      "|    M. De Sciglio|Juventus|\n",
      "+-----------------+--------+\n",
      "only showing top 20 rows\n",
      "\n",
      "+----------------+\n",
      "|            Name|\n",
      "+----------------+\n",
      "|  Bernardo Silva|\n",
      "|          Bartra|\n",
      "|           Bruma|\n",
      "|    Borja García|\n",
      "|     B. Espinosa|\n",
      "|      B. Oczipka|\n",
      "|     Bruno Viana|\n",
      "|      Balenziaga|\n",
      "|        Bustinza|\n",
      "|   B. Santamaria|\n",
      "|        B. Sagna|\n",
      "|    Bruno Varela|\n",
      "| B. Ecuélé Manga|\n",
      "| B. Assombalonga|\n",
      "|          Bóveda|\n",
      "|Benjamin Meseira|\n",
      "|           Botía|\n",
      "|    Bruno Tabata|\n",
      "|       B. Hrgota|\n",
      "|       B. Acosta|\n",
      "+----------------+\n",
      "only showing top 20 rows\n",
      "\n"
     ]
    }
   ],
   "source": [
    "#df1 = fifa_df.Club.isin(\"Barcelona\", \"Juventus\")\n",
    "df1 = fifa_df.select(\"Name\", \"Club\").where(fifa_df.Club.isin([\"Barcelona\", \"Juventus\"]))\n",
    "#df2 = fifa_df.Name.startswith(\"B\").where(fifa_df.Name.endswith(\"a\"))\n",
    "df2 = fifa_df.select(\"Name\").where(fifa_df.Name.startswith(\"B\")).where(fifa_df.Name.endswith(\"a\"))\n",
    "df1.show()\n",
    "df2.show()"
   ]
  }
 ],
 "metadata": {
  "kernelspec": {
   "display_name": "pyspark-demo",
   "language": "python",
   "name": "python3"
  },
  "language_info": {
   "codemirror_mode": {
    "name": "ipython",
    "version": 3
   },
   "file_extension": ".py",
   "mimetype": "text/x-python",
   "name": "python",
   "nbconvert_exporter": "python",
   "pygments_lexer": "ipython3",
   "version": "3.11.7"
  }
 },
 "nbformat": 4,
 "nbformat_minor": 2
}
