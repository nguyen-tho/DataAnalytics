{
 "cells": [
  {
   "cell_type": "code",
   "execution_count": 1,
   "metadata": {},
   "outputs": [],
   "source": [
    "#create spark session\n",
    "import findspark\n",
    "findspark.init()\n",
    "\n",
    "from pyspark.sql import SparkSession\n",
    "\n",
    "def create_session(appName):\n",
    "    \"\"\"Create and return a SparkSession, creating one if it does not exist\"\"\"\n",
    "    try:\n",
    "        spark = SparkSession.builder \\\n",
    "            .appName(appName) \\\n",
    "            .getOrCreate()\n",
    "        return spark\n",
    "    except Exception as e:\n",
    "        print(\"Error getting or creating Spark Session\", str(e))\n",
    "        \n",
    "spark = create_session('fifa19')"
   ]
  },
  {
   "cell_type": "code",
   "execution_count": 2,
   "metadata": {},
   "outputs": [],
   "source": [
    "dataset_path = 'dataset/fifa19.csv'"
   ]
  },
  {
   "cell_type": "code",
   "execution_count": 3,
   "metadata": {},
   "outputs": [],
   "source": [
    "#read dataset\n",
    "fifa_df = spark.read.csv(dataset_path, header=True)"
   ]
  },
  {
   "cell_type": "code",
   "execution_count": 4,
   "metadata": {},
   "outputs": [
    {
     "name": "stdout",
     "output_type": "stream",
     "text": [
      "+------+-----------------+---+-----------+\n",
      "|ID    |Name             |Age|Nationality|\n",
      "+------+-----------------+---+-----------+\n",
      "|158023|L. Messi         |31 |Argentina  |\n",
      "|20801 |Cristiano Ronaldo|33 |Portugal   |\n",
      "|190871|Neymar Jr        |26 |Brazil     |\n",
      "|193080|De Gea           |27 |Spain      |\n",
      "|192985|K. De Bruyne     |27 |Belgium    |\n",
      "+------+-----------------+---+-----------+\n",
      "\n"
     ]
    }
   ],
   "source": [
    "#print 5 sample\n",
    "df = fifa_df.select(\"ID\", \"Name\", \"Age\", \"Nationality\")\n",
    "df.limit(5).show(truncate=False)"
   ]
  },
  {
   "cell_type": "code",
   "execution_count": 5,
   "metadata": {},
   "outputs": [
    {
     "name": "stdout",
     "output_type": "stream",
     "text": [
      "root\n",
      " |-- ID: string (nullable = true)\n",
      " |-- Name: string (nullable = true)\n",
      " |-- Age: string (nullable = true)\n",
      " |-- Nationality: string (nullable = true)\n",
      "\n"
     ]
    }
   ],
   "source": [
    "#print schema\n",
    "df.printSchema()"
   ]
  },
  {
   "cell_type": "code",
   "execution_count": 7,
   "metadata": {},
   "outputs": [
    {
     "name": "stdout",
     "output_type": "stream",
     "text": [
      "root\n",
      " |-- ID: integer (nullable = true)\n",
      " |-- Name: string (nullable = true)\n",
      " |-- Age: integer (nullable = true)\n",
      " |-- Nationality: string (nullable = true)\n",
      "\n"
     ]
    }
   ],
   "source": [
    "#modify data struct\n",
    "from pyspark.sql.functions import col\n",
    "from pyspark.sql.types import IntegerType\n",
    "\n",
    "df = df.withColumn(\"ID\", col(\"ID\").cast(IntegerType()))\\\n",
    "    .withColumn( \"Age\", col(\"Age\").cast(IntegerType()))\n",
    "    \n",
    "df.printSchema()"
   ]
  }
 ],
 "metadata": {
  "kernelspec": {
   "display_name": "pyspark-demo",
   "language": "python",
   "name": "python3"
  },
  "language_info": {
   "codemirror_mode": {
    "name": "ipython",
    "version": 3
   },
   "file_extension": ".py",
   "mimetype": "text/x-python",
   "name": "python",
   "nbconvert_exporter": "python",
   "pygments_lexer": "ipython3",
   "version": "3.11.7"
  }
 },
 "nbformat": 4,
 "nbformat_minor": 2
}
