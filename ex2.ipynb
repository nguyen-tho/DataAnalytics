{
 "cells": [
  {
   "cell_type": "code",
   "execution_count": 11,
   "metadata": {},
   "outputs": [],
   "source": [
    "import findspark\n",
    "findspark.init()\n",
    "import pyspark\n",
    "from pyspark.sql import SparkSession\n",
    "\n",
    "spark = SparkSession.builder.appName('jsonReader').getOrCreate()"
   ]
  },
  {
   "cell_type": "code",
   "execution_count": 12,
   "metadata": {},
   "outputs": [],
   "source": [
    "path='dataset/'\n",
    "people = spark.read.json(path+'people.json')"
   ]
  },
  {
   "cell_type": "code",
   "execution_count": 13,
   "metadata": {},
   "outputs": [
    {
     "name": "stdout",
     "output_type": "stream",
     "text": [
      "+---------------+---------------+-------------------+--------------------+-----------------+--------------------+--------------------+\n",
      "|_corrupt_record|           city|         creditcard|               email|              mac|                name|           timestamp|\n",
      "+---------------+---------------+-------------------+--------------------+-----------------+--------------------+--------------------+\n",
      "|              [|           NULL|               NULL|                NULL|             NULL|                NULL|                NULL|\n",
      "|           NULL|Lake Gladysberg|1228-1221-1221-1431|katlyn@jenkinsmag...|08:fd:0b:cd:77:f7|        Keeley Bosco|2015-04-25 13:57:...|\n",
      "|           NULL|           NULL|1228-1221-1221-1431|juvenal@johnston....|90:4d:fa:42:63:a2|         Rubye Jerde|2015-04-25 09:02:...|\n",
      "|           NULL|           NULL|               NULL|                NULL|f9:0e:d3:40:cb:e9|Miss Darian Breit...|2015-04-25 13:16:...|\n",
      "|           NULL|           NULL|1228-1221-1221-1431|emery_kunze@rogah...|3a:af:c9:0b:5c:08|    Celine Ankunding|2015-04-25 14:22:...|\n",
      "+---------------+---------------+-------------------+--------------------+-----------------+--------------------+--------------------+\n",
      "only showing top 5 rows\n",
      "\n"
     ]
    }
   ],
   "source": [
    "people.show(5)"
   ]
  },
  {
   "cell_type": "code",
   "execution_count": 14,
   "metadata": {},
   "outputs": [
    {
     "name": "stdout",
     "output_type": "stream",
     "text": [
      "root\n",
      " |-- _corrupt_record: string (nullable = true)\n",
      " |-- city: string (nullable = true)\n",
      " |-- creditcard: string (nullable = true)\n",
      " |-- email: string (nullable = true)\n",
      " |-- mac: string (nullable = true)\n",
      " |-- name: string (nullable = true)\n",
      " |-- timestamp: string (nullable = true)\n",
      "\n"
     ]
    }
   ],
   "source": [
    "people.printSchema()"
   ]
  },
  {
   "cell_type": "code",
   "execution_count": 22,
   "metadata": {},
   "outputs": [
    {
     "name": "stdout",
     "output_type": "stream",
     "text": [
      "[StructField('name', StringType(), True), StructField('timestamp', DateType(), True)]\n"
     ]
    }
   ],
   "source": [
    "#import pyspark.sql.types as T\n",
    "from pyspark.sql.types import StructField, StringType, DateType, StructType\n",
    "list_schema =[StructField(\"name\", StringType(), True),\n",
    "              StructField(\"timestamp\", DateType(), True)\n",
    "]\n",
    "\n",
    "print(list_schema)"
   ]
  },
  {
   "cell_type": "code",
   "execution_count": 23,
   "metadata": {},
   "outputs": [],
   "source": [
    "data_struct = StructType(fields=list_schema)\n",
    "people = spark.read.json(path+'people.json', schema=data_struct)"
   ]
  },
  {
   "cell_type": "code",
   "execution_count": 24,
   "metadata": {},
   "outputs": [
    {
     "name": "stdout",
     "output_type": "stream",
     "text": [
      "root\n",
      " |-- name: string (nullable = true)\n",
      " |-- timestamp: date (nullable = true)\n",
      "\n"
     ]
    }
   ],
   "source": [
    "people.printSchema()"
   ]
  },
  {
   "cell_type": "code",
   "execution_count": 25,
   "metadata": {},
   "outputs": [
    {
     "name": "stdout",
     "output_type": "stream",
     "text": [
      "+--------------------+----------+\n",
      "|                name| timestamp|\n",
      "+--------------------+----------+\n",
      "|                NULL|      NULL|\n",
      "|        Keeley Bosco|2015-04-25|\n",
      "|         Rubye Jerde|2015-04-25|\n",
      "|Miss Darian Breit...|2015-04-25|\n",
      "|    Celine Ankunding|2015-04-25|\n",
      "|    Dr. Araceli Lang|2015-04-25|\n",
      "|         Esteban Von|2015-04-25|\n",
      "|      Everette Swift|2015-04-25|\n",
      "|       Terrell Boyle|2015-04-25|\n",
      "|   Miss Emmie Muller|2015-04-25|\n",
      "|        Libby Renner|2015-04-25|\n",
      "|        Kris Spencer|2015-04-25|\n",
      "|   Terrance Schiller|2015-04-25|\n",
      "|   Alessandro Barton|2015-04-25|\n",
      "|      Dr. Art Grimes|2015-04-25|\n",
      "|         Keven Purdy|2015-04-25|\n",
      "|  William Wisozk DVM|2015-04-25|\n",
      "|           Oma Grady|2015-04-25|\n",
      "|   Annie Schamberger|2015-04-25|\n",
      "|      Jazmin Kovacek|2015-04-25|\n",
      "+--------------------+----------+\n",
      "only showing top 20 rows\n",
      "\n"
     ]
    }
   ],
   "source": [
    "people.show()"
   ]
  }
 ],
 "metadata": {
  "kernelspec": {
   "display_name": "pyspark-demo",
   "language": "python",
   "name": "python3"
  },
  "language_info": {
   "codemirror_mode": {
    "name": "ipython",
    "version": 3
   },
   "file_extension": ".py",
   "mimetype": "text/x-python",
   "name": "python",
   "nbconvert_exporter": "python",
   "pygments_lexer": "ipython3",
   "version": "3.11.7"
  }
 },
 "nbformat": 4,
 "nbformat_minor": 2
}
