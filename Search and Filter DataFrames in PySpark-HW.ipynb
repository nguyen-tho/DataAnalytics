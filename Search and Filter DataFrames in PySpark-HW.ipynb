{
 "cells": [
  {
   "cell_type": "markdown",
   "metadata": {},
   "source": [
    "# Search and Filter DataFrames in PySpark HW"
   ]
  },
  {
   "cell_type": "markdown",
   "metadata": {},
   "source": [
    "Now it's time to put what you've learn into action with a homework assignment!\n",
    "\n",
    "In case you need it again, here is the link to the documentation for the full list available function in pyspark.sql.functions library:\n",
    "http://spark.apache.org/docs/latest/api/python/pyspark.sql.html#module-pyspark.sql.functions\n",
    "\n",
    "\n",
    "### First set up your Spark Session!\n",
    "Alright so first things first, let's start up our pyspark instance."
   ]
  },
  {
   "cell_type": "code",
   "execution_count": 1,
   "metadata": {},
   "outputs": [],
   "source": [
    "import findspark\n",
    "from pyspark.sql import SparkSession\n",
    "\n",
    "spark =  SparkSession.builder.appName('fifa_HW').getOrCreate()"
   ]
  },
  {
   "cell_type": "markdown",
   "metadata": {},
   "source": [
    "## Read in the DataFrame for this Notebook\n",
    "\n",
    "We will be continuing to use the fifa19.csv file for this notebook. Make sure that you are writting the correct path to the file. "
   ]
  },
  {
   "cell_type": "code",
   "execution_count": 2,
   "metadata": {},
   "outputs": [],
   "source": [
    "dataset_path = 'dataset/fifa19.csv'\n",
    "fifa_df = spark.read.csv(dataset_path, inferSchema = True, header= True)"
   ]
  },
  {
   "cell_type": "markdown",
   "metadata": {},
   "source": [
    "## About this dataframe\n",
    "\n",
    "The **fifa19.csv** dataset includes a list of all the FIFA 2019 players and their attributes listed below: \n",
    "\n",
    " - **General**: Age, Nationality, Overall, Potential, Club\n",
    " - **Metrics:** Value, Wage\n",
    " - **Player Descriptive:** Preferred Foot, International Reputation, Weak Foot, Skill Moves, Work Rate, Position, Jersey Number, Joined, Loaned From, Contract Valid Until, Height, Weight\n",
    " - **Possition:** LS, ST, RS, LW, LF, CF, RF, RW, LAM, CAM, RAM, LM, LCM, CM, RCM, RM, LWB, LDM, CDM, RDM, RWB, LB, LCB, CB, RCB, RB, \n",
    " - **Other:** Crossing, Finishing, Heading, Accuracy, ShortPassing, Volleys, Dribbling, Curve, FKAccuracy, LongPassing, BallControl, Acceleration, SprintSpeed, Agility, Reactions, Balance, ShotPower, Jumping, Stamina, Strength, LongShots, Aggression, Interceptions, Positioning, Vision, Penalties, Composure, Marking, StandingTackle, SlidingTackle, GKDiving, GKHandling, GKKicking, GKPositioning, GKReflexes, and Release Clause.\n",
    "\n",
    "**Source:** https://www.kaggle.com/karangadiya/fifa19"
   ]
  },
  {
   "cell_type": "markdown",
   "metadata": {},
   "source": [
    "Use the .toPandas() method to view the first few lines of the dataset so we know what we are working with. "
   ]
  },
  {
   "cell_type": "code",
   "execution_count": 3,
   "metadata": {},
   "outputs": [
    {
     "name": "stdout",
     "output_type": "stream",
     "text": [
      "+---+------+-----------------+---+----------------------------------------------+-----------+-----------------------------------+-------+---------+-------------------+--------------------------------------------+-------+-----+-------+--------------+------------------------+---------+-----------+--------------+----------+---------+--------+-------------+------------+-----------+--------------------+------+------+----+----+----+----+----+----+----+----+----+----+----+----+----+----+----+----+----+----+----+----+----+----+----+----+----+----+--------+---------+---------------+------------+-------+---------+-----+----------+-----------+-----------+------------+-----------+-------+---------+-------+---------+-------+-------+--------+---------+----------+-------------+-----------+------+---------+---------+-------+--------------+-------------+--------+----------+---------+-------------+----------+--------------+\n",
      "|_c0|ID    |Name             |Age|Photo                                         |Nationality|Flag                               |Overall|Potential|Club               |Club Logo                                   |Value  |Wage |Special|Preferred Foot|International Reputation|Weak Foot|Skill Moves|Work Rate     |Body Type |Real Face|Position|Jersey Number|Joined      |Loaned From|Contract Valid Until|Height|Weight|LS  |ST  |RS  |LW  |LF  |CF  |RF  |RW  |LAM |CAM |RAM |LM  |LCM |CM  |RCM |RM  |LWB |LDM |CDM |RDM |RWB |LB  |LCB |CB  |RCB |RB  |Crossing|Finishing|HeadingAccuracy|ShortPassing|Volleys|Dribbling|Curve|FKAccuracy|LongPassing|BallControl|Acceleration|SprintSpeed|Agility|Reactions|Balance|ShotPower|Jumping|Stamina|Strength|LongShots|Aggression|Interceptions|Positioning|Vision|Penalties|Composure|Marking|StandingTackle|SlidingTackle|GKDiving|GKHandling|GKKicking|GKPositioning|GKReflexes|Release Clause|\n",
      "+---+------+-----------------+---+----------------------------------------------+-----------+-----------------------------------+-------+---------+-------------------+--------------------------------------------+-------+-----+-------+--------------+------------------------+---------+-----------+--------------+----------+---------+--------+-------------+------------+-----------+--------------------+------+------+----+----+----+----+----+----+----+----+----+----+----+----+----+----+----+----+----+----+----+----+----+----+----+----+----+----+--------+---------+---------------+------------+-------+---------+-----+----------+-----------+-----------+------------+-----------+-------+---------+-------+---------+-------+-------+--------+---------+----------+-------------+-----------+------+---------+---------+-------+--------------+-------------+--------+----------+---------+-------------+----------+--------------+\n",
      "|0  |158023|L. Messi         |31 |https://cdn.sofifa.org/players/4/19/158023.png|Argentina  |https://cdn.sofifa.org/flags/52.png|94     |94       |FC Barcelona       |https://cdn.sofifa.org/teams/2/light/241.png|€110.5M|€565K|2202   |Left          |5                       |4        |4          |Medium/ Medium|Messi     |Yes      |RF      |10           |Jul 1, 2004 |NULL       |2021                |5'7   |159lbs|88+2|88+2|88+2|92+2|93+2|93+2|93+2|92+2|93+2|93+2|93+2|91+2|84+2|84+2|84+2|91+2|64+2|61+2|61+2|61+2|64+2|59+2|47+2|47+2|47+2|59+2|84      |95       |70             |90          |86     |97       |93   |94        |87         |96         |91          |86         |91     |95       |95     |85       |68     |72     |59      |94       |48        |22           |94         |94    |75       |96       |33     |28            |26           |6       |11        |15       |14           |8         |€226.5M       |\n",
      "|1  |20801 |Cristiano Ronaldo|33 |https://cdn.sofifa.org/players/4/19/20801.png |Portugal   |https://cdn.sofifa.org/flags/38.png|94     |94       |Juventus           |https://cdn.sofifa.org/teams/2/light/45.png |€77M   |€405K|2228   |Right         |5                       |4        |5          |High/ Low     |C. Ronaldo|Yes      |ST      |7            |Jul 10, 2018|NULL       |2022                |6'2   |183lbs|91+3|91+3|91+3|89+3|90+3|90+3|90+3|89+3|88+3|88+3|88+3|88+3|81+3|81+3|81+3|88+3|65+3|61+3|61+3|61+3|65+3|61+3|53+3|53+3|53+3|61+3|84      |94       |89             |81          |87     |88       |81   |76        |77         |94         |89          |91         |87     |96       |70     |95       |95     |88     |79      |93       |63        |29           |95         |82    |85       |95       |28     |31            |23           |7       |11        |15       |14           |11        |€127.1M       |\n",
      "|2  |190871|Neymar Jr        |26 |https://cdn.sofifa.org/players/4/19/190871.png|Brazil     |https://cdn.sofifa.org/flags/54.png|92     |93       |Paris Saint-Germain|https://cdn.sofifa.org/teams/2/light/73.png |€118.5M|€290K|2143   |Right         |5                       |5        |5          |High/ Medium  |Neymar    |Yes      |LW      |10           |Aug 3, 2017 |NULL       |2022                |5'9   |150lbs|84+3|84+3|84+3|89+3|89+3|89+3|89+3|89+3|89+3|89+3|89+3|88+3|81+3|81+3|81+3|88+3|65+3|60+3|60+3|60+3|65+3|60+3|47+3|47+3|47+3|60+3|79      |87       |62             |84          |84     |96       |88   |87        |78         |95         |94          |90         |96     |94       |84     |80       |61     |81     |49      |82       |56        |36           |89         |87    |81       |94       |27     |24            |33           |9       |9         |15       |15           |11        |€228.1M       |\n",
      "|3  |193080|De Gea           |27 |https://cdn.sofifa.org/players/4/19/193080.png|Spain      |https://cdn.sofifa.org/flags/45.png|91     |93       |Manchester United  |https://cdn.sofifa.org/teams/2/light/11.png |€72M   |€260K|1471   |Right         |4                       |3        |1          |Medium/ Medium|Lean      |Yes      |GK      |1            |Jul 1, 2011 |NULL       |2020                |6'4   |168lbs|NULL|NULL|NULL|NULL|NULL|NULL|NULL|NULL|NULL|NULL|NULL|NULL|NULL|NULL|NULL|NULL|NULL|NULL|NULL|NULL|NULL|NULL|NULL|NULL|NULL|NULL|17      |13       |21             |50          |13     |18       |21   |19        |51         |42         |57          |58         |60     |90       |43     |31       |67     |43     |64      |12       |38        |30           |12         |68    |40       |68       |15     |21            |13           |90      |85        |87       |88           |94        |€138.6M       |\n",
      "|4  |192985|K. De Bruyne     |27 |https://cdn.sofifa.org/players/4/19/192985.png|Belgium    |https://cdn.sofifa.org/flags/7.png |91     |92       |Manchester City    |https://cdn.sofifa.org/teams/2/light/10.png |€102M  |€355K|2281   |Right         |4                       |5        |4          |High/ High    |Normal    |Yes      |RCM     |7            |Aug 30, 2015|NULL       |2023                |5'11  |154lbs|82+3|82+3|82+3|87+3|87+3|87+3|87+3|87+3|88+3|88+3|88+3|88+3|87+3|87+3|87+3|88+3|77+3|77+3|77+3|77+3|77+3|73+3|66+3|66+3|66+3|73+3|93      |82       |55             |92          |82     |86       |85   |83        |91         |91         |78          |76         |79     |91       |77     |91       |63     |90     |75      |91       |76        |61           |87         |94    |79       |88       |68     |58            |51           |15      |13        |5        |10           |13        |€196.4M       |\n",
      "+---+------+-----------------+---+----------------------------------------------+-----------+-----------------------------------+-------+---------+-------------------+--------------------------------------------+-------+-----+-------+--------------+------------------------+---------+-----------+--------------+----------+---------+--------+-------------+------------+-----------+--------------------+------+------+----+----+----+----+----+----+----+----+----+----+----+----+----+----+----+----+----+----+----+----+----+----+----+----+----+----+--------+---------+---------------+------------+-------+---------+-----+----------+-----------+-----------+------------+-----------+-------+---------+-------+---------+-------+-------+--------+---------+----------+-------------+-----------+------+---------+---------+-------+--------------+-------------+--------+----------+---------+-------------+----------+--------------+\n",
      "\n"
     ]
    }
   ],
   "source": [
    "fifa_df.limit(5).show(truncate=False)"
   ]
  },
  {
   "cell_type": "markdown",
   "metadata": {},
   "source": [
    "Now print the schema of the dataset so we can see the data types of all the varaibles. "
   ]
  },
  {
   "cell_type": "code",
   "execution_count": 4,
   "metadata": {},
   "outputs": [
    {
     "name": "stdout",
     "output_type": "stream",
     "text": [
      "root\n",
      " |-- _c0: integer (nullable = true)\n",
      " |-- ID: integer (nullable = true)\n",
      " |-- Name: string (nullable = true)\n",
      " |-- Age: integer (nullable = true)\n",
      " |-- Photo: string (nullable = true)\n",
      " |-- Nationality: string (nullable = true)\n",
      " |-- Flag: string (nullable = true)\n",
      " |-- Overall: integer (nullable = true)\n",
      " |-- Potential: integer (nullable = true)\n",
      " |-- Club: string (nullable = true)\n",
      " |-- Club Logo: string (nullable = true)\n",
      " |-- Value: string (nullable = true)\n",
      " |-- Wage: string (nullable = true)\n",
      " |-- Special: integer (nullable = true)\n",
      " |-- Preferred Foot: string (nullable = true)\n",
      " |-- International Reputation: integer (nullable = true)\n",
      " |-- Weak Foot: integer (nullable = true)\n",
      " |-- Skill Moves: integer (nullable = true)\n",
      " |-- Work Rate: string (nullable = true)\n",
      " |-- Body Type: string (nullable = true)\n",
      " |-- Real Face: string (nullable = true)\n",
      " |-- Position: string (nullable = true)\n",
      " |-- Jersey Number: integer (nullable = true)\n",
      " |-- Joined: string (nullable = true)\n",
      " |-- Loaned From: string (nullable = true)\n",
      " |-- Contract Valid Until: string (nullable = true)\n",
      " |-- Height: string (nullable = true)\n",
      " |-- Weight: string (nullable = true)\n",
      " |-- LS: string (nullable = true)\n",
      " |-- ST: string (nullable = true)\n",
      " |-- RS: string (nullable = true)\n",
      " |-- LW: string (nullable = true)\n",
      " |-- LF: string (nullable = true)\n",
      " |-- CF: string (nullable = true)\n",
      " |-- RF: string (nullable = true)\n",
      " |-- RW: string (nullable = true)\n",
      " |-- LAM: string (nullable = true)\n",
      " |-- CAM: string (nullable = true)\n",
      " |-- RAM: string (nullable = true)\n",
      " |-- LM: string (nullable = true)\n",
      " |-- LCM: string (nullable = true)\n",
      " |-- CM: string (nullable = true)\n",
      " |-- RCM: string (nullable = true)\n",
      " |-- RM: string (nullable = true)\n",
      " |-- LWB: string (nullable = true)\n",
      " |-- LDM: string (nullable = true)\n",
      " |-- CDM: string (nullable = true)\n",
      " |-- RDM: string (nullable = true)\n",
      " |-- RWB: string (nullable = true)\n",
      " |-- LB: string (nullable = true)\n",
      " |-- LCB: string (nullable = true)\n",
      " |-- CB: string (nullable = true)\n",
      " |-- RCB: string (nullable = true)\n",
      " |-- RB: string (nullable = true)\n",
      " |-- Crossing: integer (nullable = true)\n",
      " |-- Finishing: integer (nullable = true)\n",
      " |-- HeadingAccuracy: integer (nullable = true)\n",
      " |-- ShortPassing: integer (nullable = true)\n",
      " |-- Volleys: integer (nullable = true)\n",
      " |-- Dribbling: integer (nullable = true)\n",
      " |-- Curve: integer (nullable = true)\n",
      " |-- FKAccuracy: integer (nullable = true)\n",
      " |-- LongPassing: integer (nullable = true)\n",
      " |-- BallControl: integer (nullable = true)\n",
      " |-- Acceleration: integer (nullable = true)\n",
      " |-- SprintSpeed: integer (nullable = true)\n",
      " |-- Agility: integer (nullable = true)\n",
      " |-- Reactions: integer (nullable = true)\n",
      " |-- Balance: integer (nullable = true)\n",
      " |-- ShotPower: integer (nullable = true)\n",
      " |-- Jumping: integer (nullable = true)\n",
      " |-- Stamina: integer (nullable = true)\n",
      " |-- Strength: integer (nullable = true)\n",
      " |-- LongShots: integer (nullable = true)\n",
      " |-- Aggression: integer (nullable = true)\n",
      " |-- Interceptions: integer (nullable = true)\n",
      " |-- Positioning: integer (nullable = true)\n",
      " |-- Vision: integer (nullable = true)\n",
      " |-- Penalties: integer (nullable = true)\n",
      " |-- Composure: integer (nullable = true)\n",
      " |-- Marking: integer (nullable = true)\n",
      " |-- StandingTackle: integer (nullable = true)\n",
      " |-- SlidingTackle: integer (nullable = true)\n",
      " |-- GKDiving: integer (nullable = true)\n",
      " |-- GKHandling: integer (nullable = true)\n",
      " |-- GKKicking: integer (nullable = true)\n",
      " |-- GKPositioning: integer (nullable = true)\n",
      " |-- GKReflexes: integer (nullable = true)\n",
      " |-- Release Clause: string (nullable = true)\n",
      "\n"
     ]
    }
   ],
   "source": [
    "fifa_df.printSchema()"
   ]
  },
  {
   "cell_type": "markdown",
   "metadata": {},
   "source": [
    "## Now let's get started!\n",
    "\n",
    "### First things first..... import the pyspark sql functions library\n",
    "\n",
    "Since we know we will be using it a lot."
   ]
  },
  {
   "cell_type": "code",
   "execution_count": 5,
   "metadata": {},
   "outputs": [],
   "source": [
    "import pyspark.sql.functions as F"
   ]
  },
  {
   "cell_type": "markdown",
   "metadata": {},
   "source": [
    "### 1. Select the Name and Position of each player in the dataframe"
   ]
  },
  {
   "cell_type": "code",
   "execution_count": 6,
   "metadata": {},
   "outputs": [
    {
     "name": "stdout",
     "output_type": "stream",
     "text": [
      "+-----------------+--------+\n",
      "|             Name|Position|\n",
      "+-----------------+--------+\n",
      "|         L. Messi|      RF|\n",
      "|Cristiano Ronaldo|      ST|\n",
      "|        Neymar Jr|      LW|\n",
      "|           De Gea|      GK|\n",
      "|     K. De Bruyne|     RCM|\n",
      "|        E. Hazard|      LF|\n",
      "|        L. Modrić|     RCM|\n",
      "|        L. Suárez|      RS|\n",
      "|     Sergio Ramos|     RCB|\n",
      "|         J. Oblak|      GK|\n",
      "|   R. Lewandowski|      ST|\n",
      "|         T. Kroos|     LCM|\n",
      "|         D. Godín|      CB|\n",
      "|      David Silva|     LCM|\n",
      "|         N. Kanté|     LDM|\n",
      "|        P. Dybala|      LF|\n",
      "|          H. Kane|      ST|\n",
      "|     A. Griezmann|     CAM|\n",
      "|    M. ter Stegen|      GK|\n",
      "|      T. Courtois|      GK|\n",
      "+-----------------+--------+\n",
      "only showing top 20 rows\n",
      "\n"
     ]
    }
   ],
   "source": [
    "selected_df = fifa_df.select(\"Name\", \"Position\")\n",
    "selected_df.show()"
   ]
  },
  {
   "cell_type": "markdown",
   "metadata": {},
   "source": [
    "### 1.1 Display the same results from above sorted by the players names"
   ]
  },
  {
   "cell_type": "code",
   "execution_count": 7,
   "metadata": {},
   "outputs": [
    {
     "name": "stdout",
     "output_type": "stream",
     "text": [
      "+--------------+--------+\n",
      "|          Name|Position|\n",
      "+--------------+--------+\n",
      "|      A. Abang|      ST|\n",
      "| A. Abdellaoui|      LB|\n",
      "|  A. Abdennour|      CB|\n",
      "|       A. Abdi|      CM|\n",
      "| A. Abdu Jaber|      ST|\n",
      "|A. Abdulhameed|      GK|\n",
      "|  A. Abedzadeh|      GK|\n",
      "|      A. Abeid|      LB|\n",
      "|      A. Ablet|     LWB|\n",
      "|    A. Abrashi|     CDM|\n",
      "|   A. Abruscia|    NULL|\n",
      "|    A. Absalem|      LB|\n",
      "|    A. Accardi|      CB|\n",
      "|    A. Acevedo|     RCB|\n",
      "|     A. Acosta|      LB|\n",
      "|     A. Acosta|      RM|\n",
      "|     A. Acquah|     LCM|\n",
      "|       A. Adam|      ST|\n",
      "|      A. Addai|      ST|\n",
      "|      A. Ademi|     RDM|\n",
      "+--------------+--------+\n",
      "only showing top 20 rows\n",
      "\n"
     ]
    }
   ],
   "source": [
    "selected_df.orderBy(F.asc(\"Name\")).show()"
   ]
  },
  {
   "cell_type": "markdown",
   "metadata": {},
   "source": [
    "### 2. Select only the players who belong to a club begining with FC"
   ]
  },
  {
   "cell_type": "code",
   "execution_count": 8,
   "metadata": {},
   "outputs": [
    {
     "name": "stdout",
     "output_type": "stream",
     "text": [
      "+---------------+--------+-----------------+\n",
      "|           Name|Position|             Club|\n",
      "+---------------+--------+-----------------+\n",
      "|       L. Messi|      RF|     FC Barcelona|\n",
      "|      L. Suárez|      RS|     FC Barcelona|\n",
      "| R. Lewandowski|      ST|FC Bayern München|\n",
      "|  M. ter Stegen|      GK|     FC Barcelona|\n",
      "|Sergio Busquets|     CDM|     FC Barcelona|\n",
      "|       M. Neuer|      GK|FC Bayern München|\n",
      "|   J. Rodríguez|     LAM|FC Bayern München|\n",
      "|       Coutinho|      LW|     FC Barcelona|\n",
      "|     M. Hummels|     LCB|FC Bayern München|\n",
      "|      S. Umtiti|      CB|     FC Barcelona|\n",
      "|     Jordi Alba|      LB|     FC Barcelona|\n",
      "|     I. Rakitić|     RCM|     FC Barcelona|\n",
      "|          Piqué|     RCB|     FC Barcelona|\n",
      "|      T. Müller|     CAM|FC Bayern München|\n",
      "|         Thiago|      CM|FC Bayern München|\n",
      "|     J. Kimmich|     RCM|FC Bayern München|\n",
      "|       D. Alaba|      LB|FC Bayern München|\n",
      "|     Y. Brahimi|      LM|         FC Porto|\n",
      "|     J. Boateng|     RCB|FC Bayern München|\n",
      "|       A. Vidal|     CAM|     FC Barcelona|\n",
      "+---------------+--------+-----------------+\n",
      "only showing top 20 rows\n",
      "\n"
     ]
    }
   ],
   "source": [
    "fc_begin_df = fifa_df.filter(F.col(\"Club\").startswith(\"FC\"))\n",
    "fc_begin_df.select(\"Name\", \"Position\",\"Club\").show()"
   ]
  },
  {
   "cell_type": "code",
   "execution_count": null,
   "metadata": {},
   "outputs": [],
   "source": []
  },
  {
   "cell_type": "markdown",
   "metadata": {},
   "source": [
    "### 3. Who is the oldest player in the dataset and how old are they?\n",
    "\n",
    "Display only the name and age of the oldest player."
   ]
  },
  {
   "cell_type": "code",
   "execution_count": 9,
   "metadata": {},
   "outputs": [
    {
     "name": "stdout",
     "output_type": "stream",
     "text": [
      "[('_c0', 'int'), ('ID', 'int'), ('Name', 'string'), ('Age', 'int'), ('Photo', 'string'), ('Nationality', 'string'), ('Flag', 'string'), ('Overall', 'int'), ('Potential', 'int'), ('Club', 'string'), ('Club Logo', 'string'), ('Value', 'string'), ('Wage', 'string'), ('Special', 'int'), ('Preferred Foot', 'string'), ('International Reputation', 'int'), ('Weak Foot', 'int'), ('Skill Moves', 'int'), ('Work Rate', 'string'), ('Body Type', 'string'), ('Real Face', 'string'), ('Position', 'string'), ('Jersey Number', 'int'), ('Joined', 'string'), ('Loaned From', 'string'), ('Contract Valid Until', 'string'), ('Height', 'string'), ('Weight', 'string'), ('LS', 'string'), ('ST', 'string'), ('RS', 'string'), ('LW', 'string'), ('LF', 'string'), ('CF', 'string'), ('RF', 'string'), ('RW', 'string'), ('LAM', 'string'), ('CAM', 'string'), ('RAM', 'string'), ('LM', 'string'), ('LCM', 'string'), ('CM', 'string'), ('RCM', 'string'), ('RM', 'string'), ('LWB', 'string'), ('LDM', 'string'), ('CDM', 'string'), ('RDM', 'string'), ('RWB', 'string'), ('LB', 'string'), ('LCB', 'string'), ('CB', 'string'), ('RCB', 'string'), ('RB', 'string'), ('Crossing', 'int'), ('Finishing', 'int'), ('HeadingAccuracy', 'int'), ('ShortPassing', 'int'), ('Volleys', 'int'), ('Dribbling', 'int'), ('Curve', 'int'), ('FKAccuracy', 'int'), ('LongPassing', 'int'), ('BallControl', 'int'), ('Acceleration', 'int'), ('SprintSpeed', 'int'), ('Agility', 'int'), ('Reactions', 'int'), ('Balance', 'int'), ('ShotPower', 'int'), ('Jumping', 'int'), ('Stamina', 'int'), ('Strength', 'int'), ('LongShots', 'int'), ('Aggression', 'int'), ('Interceptions', 'int'), ('Positioning', 'int'), ('Vision', 'int'), ('Penalties', 'int'), ('Composure', 'int'), ('Marking', 'int'), ('StandingTackle', 'int'), ('SlidingTackle', 'int'), ('GKDiving', 'int'), ('GKHandling', 'int'), ('GKKicking', 'int'), ('GKPositioning', 'int'), ('GKReflexes', 'int'), ('Release Clause', 'string')]\n"
     ]
    }
   ],
   "source": [
    "fifa_df = fifa_df.withColumn(\"Age\", fifa_df[\"Age\"].cast(\"int\"))\n",
    "print(fifa_df.dtypes)\n",
    "#oldest_player = fifa_df.select(\"Name\", \"Age\").where(F.max(fifa_df.Age)).collect()[0]\n",
    "#print(\"\\nOldest Player:\")\n",
    "#print(oldest_player)"
   ]
  },
  {
   "cell_type": "code",
   "execution_count": 10,
   "metadata": {},
   "outputs": [
    {
     "name": "stdout",
     "output_type": "stream",
     "text": [
      "The oldest player is O. Pérez with age of 45\n"
     ]
    }
   ],
   "source": [
    "sorted_age = fifa_df.orderBy(F.desc(\"Age\"))\n",
    "oldest_player = sorted_age.first()\n",
    "print(f\"The oldest player is {oldest_player['Name']} with age of {oldest_player['Age']}\")\n"
   ]
  },
  {
   "cell_type": "markdown",
   "metadata": {},
   "source": [
    "### 4. Select only the following players from the dataframe:\n",
    "\n",
    " - L. Messi\n",
    " - Cristiano Ronaldo"
   ]
  },
  {
   "cell_type": "code",
   "execution_count": 11,
   "metadata": {},
   "outputs": [
    {
     "name": "stdout",
     "output_type": "stream",
     "text": [
      "+---+------+-----------------+---+--------------------+-----------+--------------------+-------+---------+------------+--------------------+-------+-----+-------+--------------+------------------------+---------+-----------+--------------+----------+---------+--------+-------------+------------+-----------+--------------------+------+------+----+----+----+----+----+----+----+----+----+----+----+----+----+----+----+----+----+----+----+----+----+----+----+----+----+----+--------+---------+---------------+------------+-------+---------+-----+----------+-----------+-----------+------------+-----------+-------+---------+-------+---------+-------+-------+--------+---------+----------+-------------+-----------+------+---------+---------+-------+--------------+-------------+--------+----------+---------+-------------+----------+--------------+\n",
      "|_c0|    ID|             Name|Age|               Photo|Nationality|                Flag|Overall|Potential|        Club|           Club Logo|  Value| Wage|Special|Preferred Foot|International Reputation|Weak Foot|Skill Moves|     Work Rate| Body Type|Real Face|Position|Jersey Number|      Joined|Loaned From|Contract Valid Until|Height|Weight|  LS|  ST|  RS|  LW|  LF|  CF|  RF|  RW| LAM| CAM| RAM|  LM| LCM|  CM| RCM|  RM| LWB| LDM| CDM| RDM| RWB|  LB| LCB|  CB| RCB|  RB|Crossing|Finishing|HeadingAccuracy|ShortPassing|Volleys|Dribbling|Curve|FKAccuracy|LongPassing|BallControl|Acceleration|SprintSpeed|Agility|Reactions|Balance|ShotPower|Jumping|Stamina|Strength|LongShots|Aggression|Interceptions|Positioning|Vision|Penalties|Composure|Marking|StandingTackle|SlidingTackle|GKDiving|GKHandling|GKKicking|GKPositioning|GKReflexes|Release Clause|\n",
      "+---+------+-----------------+---+--------------------+-----------+--------------------+-------+---------+------------+--------------------+-------+-----+-------+--------------+------------------------+---------+-----------+--------------+----------+---------+--------+-------------+------------+-----------+--------------------+------+------+----+----+----+----+----+----+----+----+----+----+----+----+----+----+----+----+----+----+----+----+----+----+----+----+----+----+--------+---------+---------------+------------+-------+---------+-----+----------+-----------+-----------+------------+-----------+-------+---------+-------+---------+-------+-------+--------+---------+----------+-------------+-----------+------+---------+---------+-------+--------------+-------------+--------+----------+---------+-------------+----------+--------------+\n",
      "|  0|158023|         L. Messi| 31|https://cdn.sofif...|  Argentina|https://cdn.sofif...|     94|       94|FC Barcelona|https://cdn.sofif...|€110.5M|€565K|   2202|          Left|                       5|        4|          4|Medium/ Medium|     Messi|      Yes|      RF|           10| Jul 1, 2004|       NULL|                2021|   5'7|159lbs|88+2|88+2|88+2|92+2|93+2|93+2|93+2|92+2|93+2|93+2|93+2|91+2|84+2|84+2|84+2|91+2|64+2|61+2|61+2|61+2|64+2|59+2|47+2|47+2|47+2|59+2|      84|       95|             70|          90|     86|       97|   93|        94|         87|         96|          91|         86|     91|       95|     95|       85|     68|     72|      59|       94|        48|           22|         94|    94|       75|       96|     33|            28|           26|       6|        11|       15|           14|         8|       €226.5M|\n",
      "|  1| 20801|Cristiano Ronaldo| 33|https://cdn.sofif...|   Portugal|https://cdn.sofif...|     94|       94|    Juventus|https://cdn.sofif...|   €77M|€405K|   2228|         Right|                       5|        4|          5|     High/ Low|C. Ronaldo|      Yes|      ST|            7|Jul 10, 2018|       NULL|                2022|   6'2|183lbs|91+3|91+3|91+3|89+3|90+3|90+3|90+3|89+3|88+3|88+3|88+3|88+3|81+3|81+3|81+3|88+3|65+3|61+3|61+3|61+3|65+3|61+3|53+3|53+3|53+3|61+3|      84|       94|             89|          81|     87|       88|   81|        76|         77|         94|          89|         91|     87|       96|     70|       95|     95|     88|      79|       93|        63|           29|         95|    82|       85|       95|     28|            31|           23|       7|        11|       15|           14|        11|       €127.1M|\n",
      "+---+------+-----------------+---+--------------------+-----------+--------------------+-------+---------+------------+--------------------+-------+-----+-------+--------------+------------------------+---------+-----------+--------------+----------+---------+--------+-------------+------------+-----------+--------------------+------+------+----+----+----+----+----+----+----+----+----+----+----+----+----+----+----+----+----+----+----+----+----+----+----+----+----+----+--------+---------+---------------+------------+-------+---------+-----+----------+-----------+-----------+------------+-----------+-------+---------+-------+---------+-------+-------+--------+---------+----------+-------------+-----------+------+---------+---------+-------+--------------+-------------+--------+----------+---------+-------------+----------+--------------+\n",
      "\n"
     ]
    }
   ],
   "source": [
    "\n",
    "filtered_df = fifa_df.filter(F.col(\"Name\").isin([\"L. Messi\", \"Cristiano Ronaldo\"]))\n",
    "\n",
    "# Display the filtered DataFrame\n",
    "filtered_df.show()"
   ]
  },
  {
   "cell_type": "markdown",
   "metadata": {},
   "source": [
    "### 5. Can you select the first character from the Release Clause variable which indicates the currency used?"
   ]
  },
  {
   "cell_type": "code",
   "execution_count": 12,
   "metadata": {},
   "outputs": [
    {
     "name": "stdout",
     "output_type": "stream",
     "text": [
      "+---+------+-----------------+---+--------------------+-----------+--------------------+-------+---------+-------------------+--------------------+-------+-----+-------+--------------+------------------------+---------+-----------+--------------+----------+---------+--------+-------------+------------+-----------+--------------------+------+------+----+----+----+----+----+----+----+----+----+----+----+----+----+----+----+----+----+----+----+----+----+----+----+----+----+----+--------+---------+---------------+------------+-------+---------+-----+----------+-----------+-----------+------------+-----------+-------+---------+-------+---------+-------+-------+--------+---------+----------+-------------+-----------+------+---------+---------+-------+--------------+-------------+--------+----------+---------+-------------+----------+--------------+--------+\n",
      "|_c0|    ID|             Name|Age|               Photo|Nationality|                Flag|Overall|Potential|               Club|           Club Logo|  Value| Wage|Special|Preferred Foot|International Reputation|Weak Foot|Skill Moves|     Work Rate| Body Type|Real Face|Position|Jersey Number|      Joined|Loaned From|Contract Valid Until|Height|Weight|  LS|  ST|  RS|  LW|  LF|  CF|  RF|  RW| LAM| CAM| RAM|  LM| LCM|  CM| RCM|  RM| LWB| LDM| CDM| RDM| RWB|  LB| LCB|  CB| RCB|  RB|Crossing|Finishing|HeadingAccuracy|ShortPassing|Volleys|Dribbling|Curve|FKAccuracy|LongPassing|BallControl|Acceleration|SprintSpeed|Agility|Reactions|Balance|ShotPower|Jumping|Stamina|Strength|LongShots|Aggression|Interceptions|Positioning|Vision|Penalties|Composure|Marking|StandingTackle|SlidingTackle|GKDiving|GKHandling|GKKicking|GKPositioning|GKReflexes|Release Clause|Currency|\n",
      "+---+------+-----------------+---+--------------------+-----------+--------------------+-------+---------+-------------------+--------------------+-------+-----+-------+--------------+------------------------+---------+-----------+--------------+----------+---------+--------+-------------+------------+-----------+--------------------+------+------+----+----+----+----+----+----+----+----+----+----+----+----+----+----+----+----+----+----+----+----+----+----+----+----+----+----+--------+---------+---------------+------------+-------+---------+-----+----------+-----------+-----------+------------+-----------+-------+---------+-------+---------+-------+-------+--------+---------+----------+-------------+-----------+------+---------+---------+-------+--------------+-------------+--------+----------+---------+-------------+----------+--------------+--------+\n",
      "|  0|158023|         L. Messi| 31|https://cdn.sofif...|  Argentina|https://cdn.sofif...|     94|       94|       FC Barcelona|https://cdn.sofif...|€110.5M|€565K|   2202|          Left|                       5|        4|          4|Medium/ Medium|     Messi|      Yes|      RF|           10| Jul 1, 2004|       NULL|                2021|   5'7|159lbs|88+2|88+2|88+2|92+2|93+2|93+2|93+2|92+2|93+2|93+2|93+2|91+2|84+2|84+2|84+2|91+2|64+2|61+2|61+2|61+2|64+2|59+2|47+2|47+2|47+2|59+2|      84|       95|             70|          90|     86|       97|   93|        94|         87|         96|          91|         86|     91|       95|     95|       85|     68|     72|      59|       94|        48|           22|         94|    94|       75|       96|     33|            28|           26|       6|        11|       15|           14|         8|       €226.5M|       €|\n",
      "|  1| 20801|Cristiano Ronaldo| 33|https://cdn.sofif...|   Portugal|https://cdn.sofif...|     94|       94|           Juventus|https://cdn.sofif...|   €77M|€405K|   2228|         Right|                       5|        4|          5|     High/ Low|C. Ronaldo|      Yes|      ST|            7|Jul 10, 2018|       NULL|                2022|   6'2|183lbs|91+3|91+3|91+3|89+3|90+3|90+3|90+3|89+3|88+3|88+3|88+3|88+3|81+3|81+3|81+3|88+3|65+3|61+3|61+3|61+3|65+3|61+3|53+3|53+3|53+3|61+3|      84|       94|             89|          81|     87|       88|   81|        76|         77|         94|          89|         91|     87|       96|     70|       95|     95|     88|      79|       93|        63|           29|         95|    82|       85|       95|     28|            31|           23|       7|        11|       15|           14|        11|       €127.1M|       €|\n",
      "|  2|190871|        Neymar Jr| 26|https://cdn.sofif...|     Brazil|https://cdn.sofif...|     92|       93|Paris Saint-Germain|https://cdn.sofif...|€118.5M|€290K|   2143|         Right|                       5|        5|          5|  High/ Medium|    Neymar|      Yes|      LW|           10| Aug 3, 2017|       NULL|                2022|   5'9|150lbs|84+3|84+3|84+3|89+3|89+3|89+3|89+3|89+3|89+3|89+3|89+3|88+3|81+3|81+3|81+3|88+3|65+3|60+3|60+3|60+3|65+3|60+3|47+3|47+3|47+3|60+3|      79|       87|             62|          84|     84|       96|   88|        87|         78|         95|          94|         90|     96|       94|     84|       80|     61|     81|      49|       82|        56|           36|         89|    87|       81|       94|     27|            24|           33|       9|         9|       15|           15|        11|       €228.1M|       €|\n",
      "|  3|193080|           De Gea| 27|https://cdn.sofif...|      Spain|https://cdn.sofif...|     91|       93|  Manchester United|https://cdn.sofif...|   €72M|€260K|   1471|         Right|                       4|        3|          1|Medium/ Medium|      Lean|      Yes|      GK|            1| Jul 1, 2011|       NULL|                2020|   6'4|168lbs|NULL|NULL|NULL|NULL|NULL|NULL|NULL|NULL|NULL|NULL|NULL|NULL|NULL|NULL|NULL|NULL|NULL|NULL|NULL|NULL|NULL|NULL|NULL|NULL|NULL|NULL|      17|       13|             21|          50|     13|       18|   21|        19|         51|         42|          57|         58|     60|       90|     43|       31|     67|     43|      64|       12|        38|           30|         12|    68|       40|       68|     15|            21|           13|      90|        85|       87|           88|        94|       €138.6M|       €|\n",
      "|  4|192985|     K. De Bruyne| 27|https://cdn.sofif...|    Belgium|https://cdn.sofif...|     91|       92|    Manchester City|https://cdn.sofif...|  €102M|€355K|   2281|         Right|                       4|        5|          4|    High/ High|    Normal|      Yes|     RCM|            7|Aug 30, 2015|       NULL|                2023|  5'11|154lbs|82+3|82+3|82+3|87+3|87+3|87+3|87+3|87+3|88+3|88+3|88+3|88+3|87+3|87+3|87+3|88+3|77+3|77+3|77+3|77+3|77+3|73+3|66+3|66+3|66+3|73+3|      93|       82|             55|          92|     82|       86|   85|        83|         91|         91|          78|         76|     79|       91|     77|       91|     63|     90|      75|       91|        76|           61|         87|    94|       79|       88|     68|            58|           51|      15|        13|        5|           10|        13|       €196.4M|       €|\n",
      "|  5|183277|        E. Hazard| 27|https://cdn.sofif...|    Belgium|https://cdn.sofif...|     91|       91|            Chelsea|https://cdn.sofif...|   €93M|€340K|   2142|         Right|                       4|        4|          4|  High/ Medium|    Normal|      Yes|      LF|           10| Jul 1, 2012|       NULL|                2020|   5'8|163lbs|83+3|83+3|83+3|89+3|88+3|88+3|88+3|89+3|89+3|89+3|89+3|89+3|82+3|82+3|82+3|89+3|66+3|63+3|63+3|63+3|66+3|60+3|49+3|49+3|49+3|60+3|      81|       84|             61|          89|     80|       95|   83|        79|         83|         94|          94|         88|     95|       90|     94|       82|     56|     83|      66|       80|        54|           41|         87|    89|       86|       91|     34|            27|           22|      11|        12|        6|            8|         8|       €172.1M|       €|\n",
      "|  6|177003|        L. Modrić| 32|https://cdn.sofif...|    Croatia|https://cdn.sofif...|     91|       91|        Real Madrid|https://cdn.sofif...|   €67M|€420K|   2280|         Right|                       4|        4|          4|    High/ High|      Lean|      Yes|     RCM|           10| Aug 1, 2012|       NULL|                2020|   5'8|146lbs|77+3|77+3|77+3|85+3|84+3|84+3|84+3|85+3|87+3|87+3|87+3|86+3|88+3|88+3|88+3|86+3|82+3|81+3|81+3|81+3|82+3|79+3|71+3|71+3|71+3|79+3|      86|       72|             55|          93|     76|       90|   85|        78|         88|         93|          80|         72|     93|       90|     94|       79|     68|     89|      58|       82|        62|           83|         79|    92|       82|       84|     60|            76|           73|      13|         9|        7|           14|         9|       €137.4M|       €|\n",
      "|  7|176580|        L. Suárez| 31|https://cdn.sofif...|    Uruguay|https://cdn.sofif...|     91|       91|       FC Barcelona|https://cdn.sofif...|   €80M|€455K|   2346|         Right|                       5|        4|          3|  High/ Medium|    Normal|      Yes|      RS|            9|Jul 11, 2014|       NULL|                2021|   6'0|190lbs|87+5|87+5|87+5|86+5|87+5|87+5|87+5|86+5|85+5|85+5|85+5|84+5|79+5|79+5|79+5|84+5|69+5|68+5|68+5|68+5|69+5|66+5|63+5|63+5|63+5|66+5|      77|       93|             77|          82|     88|       87|   86|        84|         64|         90|          86|         75|     82|       92|     83|       86|     69|     90|      83|       85|        87|           41|         92|    84|       85|       85|     62|            45|           38|      27|        25|       31|           33|        37|         €164M|       €|\n",
      "|  8|155862|     Sergio Ramos| 32|https://cdn.sofif...|      Spain|https://cdn.sofif...|     91|       91|        Real Madrid|https://cdn.sofif...|   €51M|€380K|   2201|         Right|                       4|        3|          3|  High/ Medium|    Normal|      Yes|     RCB|           15| Aug 1, 2005|       NULL|                2020|   6'0|181lbs|73+3|73+3|73+3|70+3|71+3|71+3|71+3|70+3|71+3|71+3|71+3|72+3|75+3|75+3|75+3|72+3|81+3|84+3|84+3|84+3|81+3|84+3|87+3|87+3|87+3|84+3|      66|       60|             91|          78|     66|       63|   74|        72|         77|         84|          76|         75|     78|       85|     66|       79|     93|     84|      83|       59|        88|           90|         60|    63|       75|       82|     87|            92|           91|      11|         8|        9|            7|        11|       €104.6M|       €|\n",
      "|  9|200389|         J. Oblak| 25|https://cdn.sofif...|   Slovenia|https://cdn.sofif...|     90|       93|    Atlético Madrid|https://cdn.sofif...|   €68M| €94K|   1331|         Right|                       3|        3|          1|Medium/ Medium|    Normal|      Yes|      GK|            1|Jul 16, 2014|       NULL|                2021|   6'2|192lbs|NULL|NULL|NULL|NULL|NULL|NULL|NULL|NULL|NULL|NULL|NULL|NULL|NULL|NULL|NULL|NULL|NULL|NULL|NULL|NULL|NULL|NULL|NULL|NULL|NULL|NULL|      13|       11|             15|          29|     13|       12|   13|        14|         26|         16|          43|         60|     67|       86|     49|       22|     76|     41|      78|       12|        34|           19|         11|    70|       11|       70|     27|            12|           18|      86|        92|       78|           88|        89|       €144.5M|       €|\n",
      "| 10|188545|   R. Lewandowski| 29|https://cdn.sofif...|     Poland|https://cdn.sofif...|     90|       90|  FC Bayern München|https://cdn.sofif...|   €77M|€205K|   2152|         Right|                       4|        4|          4|  High/ Medium|    Normal|      Yes|      ST|            9| Jul 1, 2014|       NULL|                2021|   6'0|176lbs|87+3|87+3|87+3|83+3|86+3|86+3|86+3|83+3|83+3|83+3|83+3|81+3|77+3|77+3|77+3|81+3|61+3|62+3|62+3|62+3|61+3|58+3|57+3|57+3|57+3|58+3|      62|       91|             85|          83|     89|       85|   77|        86|         65|         89|          77|         78|     78|       90|     78|       88|     84|     78|      84|       84|        80|           39|         91|    77|       88|       86|     34|            42|           19|      15|         6|       12|            8|        10|       €127.1M|       €|\n",
      "| 11|182521|         T. Kroos| 28|https://cdn.sofif...|    Germany|https://cdn.sofif...|     90|       90|        Real Madrid|https://cdn.sofif...| €76.5M|€355K|   2190|         Right|                       4|        5|          3|Medium/ Medium|    Normal|      Yes|     LCM|            8|Jul 17, 2014|       NULL|                2022|   6'0|168lbs|78+3|78+3|78+3|81+3|82+3|82+3|82+3|81+3|84+3|84+3|84+3|82+3|86+3|86+3|86+3|82+3|79+3|82+3|82+3|82+3|79+3|77+3|72+3|72+3|72+3|77+3|      88|       76|             54|          92|     82|       81|   86|        84|         93|         90|          64|         62|     70|       89|     71|       87|     30|     75|      73|       92|        60|           82|         79|    86|       73|       85|     72|            79|           69|      10|        11|       13|            7|        10|       €156.8M|       €|\n",
      "| 12|182493|         D. Godín| 32|https://cdn.sofif...|    Uruguay|https://cdn.sofif...|     90|       90|    Atlético Madrid|https://cdn.sofif...|   €44M|€125K|   1946|         Right|                       3|        3|          2|  Medium/ High|      Lean|      Yes|      CB|           10| Aug 4, 2010|       NULL|                2019|   6'2|172lbs|64+3|64+3|64+3|61+3|62+3|62+3|62+3|61+3|62+3|62+3|62+3|63+3|68+3|68+3|68+3|63+3|76+3|81+3|81+3|81+3|76+3|79+3|87+3|87+3|87+3|79+3|      55|       42|             92|          79|     47|       53|   49|        51|         70|         76|          68|         68|     58|       85|     54|       67|     91|     66|      88|       43|        89|           88|         48|    52|       50|       82|     90|            89|           89|       6|         8|       15|            5|        15|        €90.2M|       €|\n",
      "| 13|168542|      David Silva| 32|https://cdn.sofif...|      Spain|https://cdn.sofif...|     90|       90|    Manchester City|https://cdn.sofif...|   €60M|€285K|   2115|          Left|                       4|        2|          4|  High/ Medium|    Normal|      Yes|     LCM|           21|Jul 14, 2010|       NULL|                2020|   5'8|148lbs|77+3|77+3|77+3|85+3|84+3|84+3|84+3|85+3|87+3|87+3|87+3|85+3|85+3|85+3|85+3|85+3|69+3|70+3|70+3|70+3|69+3|64+3|57+3|57+3|57+3|64+3|      84|       76|             54|          93|     82|       89|   82|        77|         87|         94|          70|         64|     92|       90|     90|       72|     64|     78|      52|       75|        57|           50|         89|    92|       75|       93|     59|            53|           29|       6|        15|        7|            6|        12|         €111M|       €|\n",
      "| 14|215914|         N. Kanté| 27|https://cdn.sofif...|     France|https://cdn.sofif...|     89|       90|            Chelsea|https://cdn.sofif...|   €63M|€225K|   2189|         Right|                       3|        3|          2|  Medium/ High|      Lean|      Yes|     LDM|           13|Jul 16, 2016|       NULL|                2023|   5'6|159lbs|72+3|72+3|72+3|77+3|77+3|77+3|77+3|77+3|79+3|79+3|79+3|79+3|82+3|82+3|82+3|79+3|85+3|87+3|87+3|87+3|85+3|84+3|83+3|83+3|83+3|84+3|      68|       65|             54|          86|     56|       79|   49|        49|         81|         80|          82|         78|     82|       93|     92|       71|     77|     96|      76|       69|        90|           92|         71|    79|       54|       85|     90|            91|           85|      15|        12|       10|            7|        10|       €121.3M|       €|\n",
      "| 15|211110|        P. Dybala| 24|https://cdn.sofif...|  Argentina|https://cdn.sofif...|     89|       94|           Juventus|https://cdn.sofif...|   €89M|€205K|   2092|          Left|                       3|        3|          4|  High/ Medium|    Normal|      Yes|      LF|           21| Jul 1, 2015|       NULL|                2022|  5'10|165lbs|83+3|83+3|83+3|87+3|86+3|86+3|86+3|87+3|87+3|87+3|87+3|86+3|79+3|79+3|79+3|86+3|62+3|58+3|58+3|58+3|62+3|56+3|45+3|45+3|45+3|56+3|      82|       84|             68|          87|     88|       92|   88|        88|         75|         92|          87|         83|     91|       86|     85|       82|     75|     80|      65|       88|        48|           32|         84|    87|       86|       84|     23|            20|           20|       5|         4|        4|            5|         8|       €153.5M|       €|\n",
      "| 16|202126|          H. Kane| 24|https://cdn.sofif...|    England|https://cdn.sofif...|     89|       91|  Tottenham Hotspur|https://cdn.sofif...| €83.5M|€205K|   2165|         Right|                       3|        4|          3|    High/ High|    Normal|      Yes|      ST|            9| Jul 1, 2010|       NULL|                2024|   6'2|196lbs|86+3|86+3|86+3|82+3|84+3|84+3|84+3|82+3|82+3|82+3|82+3|81+3|79+3|79+3|79+3|81+3|65+3|66+3|66+3|66+3|65+3|62+3|60+3|60+3|60+3|62+3|      75|       94|             85|          80|     84|       80|   78|        68|         82|         84|          68|         72|     71|       91|     71|       88|     78|     89|      84|       85|        76|           35|         93|    80|       90|       89|     56|            36|           38|       8|        10|       11|           14|        11|       €160.7M|       €|\n",
      "| 17|194765|     A. Griezmann| 27|https://cdn.sofif...|     France|https://cdn.sofif...|     89|       90|    Atlético Madrid|https://cdn.sofif...|   €78M|€145K|   2246|          Left|                       4|        3|          4|    High/ High|      Lean|      Yes|     CAM|            7|Jul 28, 2014|       NULL|                2023|   5'9|161lbs|86+3|86+3|86+3|87+3|87+3|87+3|87+3|87+3|86+3|86+3|86+3|86+3|80+3|80+3|80+3|86+3|70+3|67+3|67+3|67+3|70+3|67+3|61+3|61+3|61+3|67+3|      82|       90|             84|          83|     87|       88|   84|        78|         76|         90|          88|         85|     90|       90|     80|       80|     90|     83|      62|       82|        69|           35|         91|    83|       79|       87|     59|            47|           48|      14|         8|       14|           13|        14|       €165.8M|       €|\n",
      "| 18|192448|    M. ter Stegen| 26|https://cdn.sofif...|    Germany|https://cdn.sofif...|     89|       92|       FC Barcelona|https://cdn.sofif...|   €58M|€240K|   1328|         Right|                       3|        4|          1|Medium/ Medium|    Normal|      Yes|      GK|           22| Jul 1, 2014|       NULL|                2022|   6'2|187lbs|NULL|NULL|NULL|NULL|NULL|NULL|NULL|NULL|NULL|NULL|NULL|NULL|NULL|NULL|NULL|NULL|NULL|NULL|NULL|NULL|NULL|NULL|NULL|NULL|NULL|NULL|      15|       14|             11|          36|     14|       17|   18|        12|         42|         18|          38|         50|     37|       85|     43|       22|     79|     35|      79|       10|        43|           22|         11|    69|       25|       69|     25|            13|           10|      87|        85|       88|           85|        90|       €123.3M|       €|\n",
      "| 19|192119|      T. Courtois| 26|https://cdn.sofif...|    Belgium|https://cdn.sofif...|     89|       90|        Real Madrid|https://cdn.sofif...| €53.5M|€240K|   1311|          Left|                       4|        2|          1|Medium/ Medium|  Courtois|      Yes|      GK|            1| Aug 9, 2018|       NULL|                2024|   6'6|212lbs|NULL|NULL|NULL|NULL|NULL|NULL|NULL|NULL|NULL|NULL|NULL|NULL|NULL|NULL|NULL|NULL|NULL|NULL|NULL|NULL|NULL|NULL|NULL|NULL|NULL|NULL|      14|       14|             13|          33|     12|       13|   19|        20|         35|         23|          46|         52|     61|       84|     45|       36|     68|     38|      70|       17|        23|           15|         13|    44|       27|       66|     20|            18|           16|      85|        91|       72|           86|        88|       €113.7M|       €|\n",
      "+---+------+-----------------+---+--------------------+-----------+--------------------+-------+---------+-------------------+--------------------+-------+-----+-------+--------------+------------------------+---------+-----------+--------------+----------+---------+--------+-------------+------------+-----------+--------------------+------+------+----+----+----+----+----+----+----+----+----+----+----+----+----+----+----+----+----+----+----+----+----+----+----+----+----+----+--------+---------+---------------+------------+-------+---------+-----+----------+-----------+-----------+------------+-----------+-------+---------+-------+---------+-------+-------+--------+---------+----------+-------------+-----------+------+---------+---------+-------+--------------+-------------+--------+----------+---------+-------------+----------+--------------+--------+\n",
      "only showing top 20 rows\n",
      "\n"
     ]
    }
   ],
   "source": [
    "from pyspark.sql.functions import col, substring\n",
    "\n",
    "# Extract the first character from the \"Release Clause\" column\n",
    "currency_indicator = fifa_df.withColumn(\"Currency\", substring(col(\"Release Clause\"), 1, 1))\n",
    "\n",
    "# Display the DataFrame with the new \"Currency\" column\n",
    "currency_indicator.show()\n"
   ]
  },
  {
   "cell_type": "markdown",
   "metadata": {},
   "source": [
    "### 6. Can you select only the players who are over the age of 40?"
   ]
  },
  {
   "cell_type": "code",
   "execution_count": 13,
   "metadata": {},
   "outputs": [
    {
     "name": "stdout",
     "output_type": "stream",
     "text": [
      "+-------------+---+\n",
      "|         Name|Age|\n",
      "+-------------+---+\n",
      "|    J. Villar| 41|\n",
      "|     B. Nivet| 41|\n",
      "|     O. Pérez| 45|\n",
      "|     C. Muñoz| 41|\n",
      "|  S. Narazaki| 42|\n",
      "| H. Sulaimani| 41|\n",
      "|     M. Tyler| 41|\n",
      "|    T. Warner| 44|\n",
      "|K. Pilkington| 44|\n",
      "+-------------+---+\n",
      "\n"
     ]
    }
   ],
   "source": [
    "fifa_df.select(\"Name\", \"Age\").where(fifa_df.Age>40).show()"
   ]
  },
  {
   "cell_type": "markdown",
   "metadata": {},
   "source": [
    "### That's is for now... Great Job!"
   ]
  }
 ],
 "metadata": {
  "kernelspec": {
   "display_name": "Python 3",
   "language": "python",
   "name": "python3"
  },
  "language_info": {
   "codemirror_mode": {
    "name": "ipython",
    "version": 3
   },
   "file_extension": ".py",
   "mimetype": "text/x-python",
   "name": "python",
   "nbconvert_exporter": "python",
   "pygments_lexer": "ipython3",
   "version": "3.11.7"
  }
 },
 "nbformat": 4,
 "nbformat_minor": 2
}
